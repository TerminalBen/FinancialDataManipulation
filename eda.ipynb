{
 "cells": [
  {
   "cell_type": "markdown",
   "metadata": {},
   "source": [
    "## Exploratory Financial Data analysis."
   ]
  },
  {
   "cell_type": "code",
   "execution_count": 6,
   "metadata": {},
   "outputs": [],
   "source": [
    "import pandas as pd\n",
    "import matplotlib.pyplot as plt\n",
    "import numpy as np"
   ]
  },
  {
   "cell_type": "code",
   "execution_count": 32,
   "metadata": {},
   "outputs": [],
   "source": [
    "card_Data = pd.read_csv('dataset/cleanData/card_Data_cleaned.csv')\n",
    "client_Data = pd.read_csv('dataset/cleanData/client_Data_cleaned.csv')\n",
    "loan_data = pd.read_csv('dataset/cleanData/loan_data_cleaned.csv')\n",
    "disp_data = pd.read_csv('dataset/cleanData/disp_data_cleaned.csv')"
   ]
  },
  {
   "cell_type": "markdown",
   "metadata": {},
   "source": [
    "### types of cards offered by the bank"
   ]
  },
  {
   "cell_type": "code",
   "execution_count": 5,
   "metadata": {},
   "outputs": [
    {
     "data": {
      "text/plain": [
       "array(['classic', 'junior', 'gold'], dtype=object)"
      ]
     },
     "execution_count": 5,
     "metadata": {},
     "output_type": "execute_result"
    }
   ],
   "source": [
    "card_Data.card_type.unique()"
   ]
  },
  {
   "cell_type": "markdown",
   "metadata": {},
   "source": [
    "### Client Age and gender Analysis"
   ]
  },
  {
   "cell_type": "code",
   "execution_count": 10,
   "metadata": {},
   "outputs": [
    {
     "data": {
      "text/plain": [
       "(array([  6., 150., 426., 345., 387., 358., 382., 372., 344., 371., 372.,\n",
       "        392., 367., 254., 205., 189., 186., 185.,  66.,  12.]),\n",
       " array([ 34.32876712,  38.13657534,  41.94438356,  45.75219178,\n",
       "         49.56      ,  53.36780822,  57.17561644,  60.98342466,\n",
       "         64.79123288,  68.5990411 ,  72.40684932,  76.21465753,\n",
       "         80.02246575,  83.83027397,  87.63808219,  91.44589041,\n",
       "         95.25369863,  99.06150685, 102.86931507, 106.67712329,\n",
       "        110.48493151]),\n",
       " <BarContainer object of 20 artists>)"
      ]
     },
     "execution_count": 10,
     "metadata": {},
     "output_type": "execute_result"
    },
    {
     "data": {
      "image/png": "[encoded data removed]",
      "text/plain": [
       "<Figure size 432x288 with 1 Axes>"
      ]
     },
     "metadata": {
      "needs_background": "light"
     },
     "output_type": "display_data"
    }
   ],
   "source": [
    "plt.hist(client_Data['age'], 20)"
   ]
  },
  {
   "cell_type": "code",
   "execution_count": 11,
   "metadata": {},
   "outputs": [
    {
     "data": {
      "text/plain": [
       "array([<AxesSubplot:title={'center':'gender'}>], dtype=object)"
      ]
     },
     "execution_count": 11,
     "metadata": {},
     "output_type": "execute_result"
    },
    {
     "data": {
      "image/png": "[encoded data removed]",
      "text/plain": [
       "<Figure size 432x288 with 1 Axes>"
      ]
     },
     "metadata": {
      "needs_background": "light"
     },
     "output_type": "display_data"
    }
   ],
   "source": [
    "client_Data['gender'].value_counts().plot(kind='bar', subplots=True)"
   ]
  },
  {
   "cell_type": "markdown",
   "metadata": {},
   "source": [
    "as we can see we have no minors in the database"
   ]
  },
  {
   "cell_type": "code",
   "execution_count": 15,
   "metadata": {},
   "outputs": [
    {
     "data": {
      "text/plain": [
       "0"
      ]
     },
     "execution_count": 15,
     "metadata": {},
     "output_type": "execute_result"
    }
   ],
   "source": [
    "minors = client_Data.age < 18\n",
    "minors.sum()"
   ]
  },
  {
   "cell_type": "markdown",
   "metadata": {},
   "source": [
    "But we have 214 very old people(no loans for these people)"
   ]
  },
  {
   "cell_type": "code",
   "execution_count": 23,
   "metadata": {},
   "outputs": [],
   "source": [
    "seniors_table = client_Data.loc[client_Data.age >100]\n",
    "seniors_table.shape\n",
    "seniors_table.to_csv('eda/seniors_table.csv')"
   ]
  },
  {
   "cell_type": "markdown",
   "metadata": {},
   "source": [
    "These are all the accounts that have asked for loans(unique)"
   ]
  },
  {
   "cell_type": "code",
   "execution_count": 27,
   "metadata": {},
   "outputs": [
    {
     "data": {
      "text/plain": [
       "array([ 1787,  1801,  9188,  1843, 11013,  8261, 11265,  5428, 10973,\n",
       "        4894, 10364,  5270,  6034,  6701,  2705,  7123, 10320,  9034,\n",
       "        9236, 10266,     2,  7401,  2486,  1071,  8475, 11111,  1603,\n",
       "        1166,  8073, 10940,  5313, 11135,  2694,  7753,  7445,  7485,\n",
       "        8330,  6555, 10079,  5385,  5891, 10131,  8321,  5256,   813,\n",
       "        2933,  8173,  9833,  7769,  6473,  7454,  6930,   173,  8051,\n",
       "       10439,  9337,  4576,  8027,  5927,  6273, 11065,  8558,  5442,\n",
       "        1811,  7844,  4260,  3354,  2762,  6051,  9265,  5228,  2824,\n",
       "         426,  4937,   790, 10911,  8129,  2176,  9093,  5215,  9403,\n",
       "        9104,  5120,  8519, 10788,  8260,  4259, 10105,  3050,  3674,\n",
       "        5481,  9307,  4427,  3834,  7824,  8566,  7965,  5952,  6040,\n",
       "        4448,  8982,  6363,  1012,  2167,  5622,  5991,   290,  6148,\n",
       "        7133,  8041,  1106,  1527,  1978,  4337,  2345, 10451,  6425,\n",
       "        6226,   344,  2962, 10738,  3747,  7523,  3166,  6118,   816,\n",
       "        9640,  6715,  2245,  7857,  2419,  7819,  3678,  6472,  4413,\n",
       "        9750,  6353,   817,  4414,  6030, 11021,  8564,  9869,  5700,\n",
       "        1247,  8316,  3064,  7607,  2228,  2361,  3752,  4079,  8625,\n",
       "        9591,  9828,  1993,  5628,  1762,   347,  9472,   960,  1256,\n",
       "         854,  3629,  8377,  7190,  8159,  9656,  8489, 10630, 10440,\n",
       "        4774,  5650,  5632,  3489,  4580,  4727,  4825,  8776,  1375,\n",
       "        8492,  9493,   915,  9897, 10942,  7861,  8405, 10093, 10663,\n",
       "       11349,  6738,  4423,  7546,  2343,  6609,  2218,  9627,  9731,\n",
       "         789,  4081,  5774, 11042,  6924,  7765,  2227,  9583,  7606,\n",
       "        5742,  1011,  8899,  7562,  7815,  4503,  4907,  5126,  2496,\n",
       "       11138,  4995,  3804,  5066,  6400, 10884,  8092,  5735,  3112,\n",
       "        2912,  4852,  8327,  1772, 10728,  9017,  5574,   808,  2456,\n",
       "        3037,  1967,  5213,  7418,  2352,    19,    67,  5794,  8411,\n",
       "        4462,  7614,  3608,   940,  8547,  5422,  9645,  9006,  2572,\n",
       "        1766,  2322,  1698, 10001,  8680,  8127,  5541,  2268,  3679,\n",
       "        5033,  6985,  9790,   846,  1886,  2580,  9928,  4994,  7184,\n",
       "        6358, 11359,  5593,  6289, 11054,   544,  4851,  1583,  4650,\n",
       "        3084,  2143,  9199,  2994,  6397, 10762,  7136,  8533,  7926,\n",
       "       10019,  4476,  9814,  2236, 10436, 11186,  2106,  3230,  9024,\n",
       "        4585,  1862,  8039,  6688,   501,  7795,  9422,  2062,  4447,\n",
       "        3754,   132,  5001,  6434,  5263,  4948,  3115,  9548, 10297,\n",
       "        7859,  9510,  1250,  2153,  4981,  3021, 10520, 10411,  9030,\n",
       "        3189,  8972, 10963, 11362,  4473, 10365,  5724,  5591,  2018,\n",
       "        5358,  9242,  7637,  8931, 11271,  5269,   825,  2246,  6158,\n",
       "        3353,  9494,  5072,  7262,  6950, 10215,  2247,  4803,  9052,\n",
       "        1244, 10351, 11069,  4969,  5317,  3455, 10807,  9504,  9235,\n",
       "        4715,  4681,  2134,  6792,  4618,  4863,  4033,  8688,  7674,\n",
       "       10049,  4361,  3967,  4415,   675,  1252, 10954,   176,  9225,\n",
       "        2051, 11079,  5181,   472,  9377,  6856,  3229,  3859,  9031,\n",
       "       10233,   314,  2754,  5118,  6510,  9263,  8094,  2350,  4999,\n",
       "        2872,  6649,  4293,  4660, 10361,  1447,  9138,  8320,  9353,\n",
       "       11096,  3418,  6265,  2516,  1093,  7957,  6461,  7045,  9677,\n",
       "        6440,  4626,  9241,  8772, 10202, 10063,  9633,  1270,  6678,\n",
       "         442,   319,   525,  9513,  1528,  8381, 10068,  8742,  6138,\n",
       "        4099,  2116,  2334,  4320,    97,  9859,  8169,  8114,  4127,\n",
       "        9730,  7565,   718,  5362,  2165, 10905,  6592,  9424,  2064,\n",
       "        3249,  4190,  1888,  4949,  7907,  3637,  5395,  1329,  7966,\n",
       "        1242,  4746,   110,  8026,  2080,  5837,  1374,  3664,  3273,\n",
       "       10065,  6699,  8268,  6083,  2753,  5445, 10679,  5477, 11141,\n",
       "        1906,   378,  3942,  7890,  8085,  7542,  3448,  7894,  6097,\n",
       "       11027, 11231,  8158,  2187,  4725,  3711,  9631,  7052,  2335,\n",
       "        4784,  5267,  1580,   666,  7176, 10857,  2986,   103,  7424,\n",
       "        3329,    25,  4342, 10789,  8505, 11244,  7594,  4631,  7745,\n",
       "        6902, 10711,  6686,   339,  2445,  4794,  5196,  4052,  5602,\n",
       "        6157, 10280, 10478,  4550, 10022,  3953,  6075,  7632, 10134,\n",
       "        1819,  4616,  7240,  1407,  8038,  1480,  2936, 10345, 10445,\n",
       "        8926,  2035,  1638,  7636, 10148,  5133,  1869,  9201,  7997,\n",
       "        9455,  7082,  4456,  3875,   785,  2545,  8523, 10493,   873,\n",
       "       10650,  7713,  9179,  9153, 10404,  2142,  9167,  3906,  3390,\n",
       "        7274,   440,  9560,  3907,  5164,  8225,  5305,  9646,  1004,\n",
       "        7156,  1083,  2982,  5572,  6062,  7437,    38,  7990, 10774,\n",
       "        2720,  6495,  8784,  9227,  4533, 10652,  7733,  3143,  6453,\n",
       "        7181,   938,  2622,  7049,  3562,  1776,  6061,  7721, 10812,\n",
       "        3460,   303,  2279,  4116,  3005,  8639,  8919,  9159,  7099,\n",
       "       10915,  2728,  3161,  5944, 10644,  4144,  5912,  9491,  3403,\n",
       "         993, 10645,  2988, 10799,  7559,  3916,  6706,   330,   226,\n",
       "        2000,  5180, 11328,  2055,  8713,  4858, 10005,  4467, 10613,\n",
       "        1718,  2910,  2699,  1389, 10257,  5283,   349,  1876,  9673,\n",
       "        9037,  3862,  3137, 10243,  3556,  1068, 11327,  1808,  2073,\n",
       "        9433,  2413,  1498,  6505,  1318,  9208,    37,  1656,  4354,\n",
       "        4268,  2725,  9140,  7180,  5698, 11317,   309,  3293,  9156,\n",
       "        2262,   276,   105,  1284,  6922,  1928,  8645])"
      ]
     },
     "execution_count": 27,
     "metadata": {},
     "output_type": "execute_result"
    }
   ],
   "source": [
    "who_has_loans = loan_data.account_id.unique()\n",
    "who_has_loans"
   ]
  },
  {
   "cell_type": "markdown",
   "metadata": {},
   "source": [
    "All clients with unpayed finished contracts"
   ]
  },
  {
   "cell_type": "code",
   "execution_count": 28,
   "metadata": {},
   "outputs": [
    {
     "data": {
      "text/plain": [
       "array(['Contract Finished/Not Payed', 'Contract Finished/No Problems',\n",
       "       'Running Contract/OK', 'Running Contract/Debt'], dtype=object)"
      ]
     },
     "execution_count": 28,
     "metadata": {},
     "output_type": "execute_result"
    }
   ],
   "source": [
    "loan_data.status.unique()"
   ]
  },
  {
   "cell_type": "code",
   "execution_count": 31,
   "metadata": {},
   "outputs": [
    {
     "data": {
      "text/html": [
       "<div>\n",
       "<style scoped>\n",
       "    .dataframe tbody tr th:only-of-type {\n",
       "        vertical-align: middle;\n",
       "    }\n",
       "\n",
       "    .dataframe tbody tr th {\n",
       "        vertical-align: top;\n",
       "    }\n",
       "\n",
       "    .dataframe thead th {\n",
       "        text-align: right;\n",
       "    }\n",
       "</style>\n",
       "<table border=\"1\" class=\"dataframe\">\n",
       "  <thead>\n",
       "    <tr style=\"text-align: right;\">\n",
       "      <th></th>\n",
       "      <th>loan_id</th>\n",
       "      <th>account_id</th>\n",
       "      <th>date_of_loan</th>\n",
       "      <th>amount</th>\n",
       "      <th>duration</th>\n",
       "      <th>monthly_payment</th>\n",
       "      <th>status_code</th>\n",
       "      <th>status</th>\n",
       "    </tr>\n",
       "  </thead>\n",
       "  <tbody>\n",
       "    <tr>\n",
       "      <th>0</th>\n",
       "      <td>5314</td>\n",
       "      <td>1787</td>\n",
       "      <td>1993-07-05</td>\n",
       "      <td>96396</td>\n",
       "      <td>12</td>\n",
       "      <td>8033.0</td>\n",
       "      <td>B</td>\n",
       "      <td>Contract Finished/Not Payed</td>\n",
       "    </tr>\n",
       "    <tr>\n",
       "      <th>28</th>\n",
       "      <td>6650</td>\n",
       "      <td>8073</td>\n",
       "      <td>1994-02-17</td>\n",
       "      <td>49320</td>\n",
       "      <td>12</td>\n",
       "      <td>4110.0</td>\n",
       "      <td>B</td>\n",
       "      <td>Contract Finished/Not Payed</td>\n",
       "    </tr>\n",
       "    <tr>\n",
       "      <th>41</th>\n",
       "      <td>7066</td>\n",
       "      <td>10131</td>\n",
       "      <td>1994-05-02</td>\n",
       "      <td>215388</td>\n",
       "      <td>36</td>\n",
       "      <td>5983.0</td>\n",
       "      <td>B</td>\n",
       "      <td>Contract Finished/Not Payed</td>\n",
       "    </tr>\n",
       "    <tr>\n",
       "      <th>49</th>\n",
       "      <td>6316</td>\n",
       "      <td>6473</td>\n",
       "      <td>1994-05-26</td>\n",
       "      <td>76908</td>\n",
       "      <td>12</td>\n",
       "      <td>6409.0</td>\n",
       "      <td>B</td>\n",
       "      <td>Contract Finished/Not Payed</td>\n",
       "    </tr>\n",
       "    <tr>\n",
       "      <th>58</th>\n",
       "      <td>6210</td>\n",
       "      <td>5927</td>\n",
       "      <td>1994-06-06</td>\n",
       "      <td>87216</td>\n",
       "      <td>48</td>\n",
       "      <td>1817.0</td>\n",
       "      <td>B</td>\n",
       "      <td>Contract Finished/Not Payed</td>\n",
       "    </tr>\n",
       "    <tr>\n",
       "      <th>68</th>\n",
       "      <td>6232</td>\n",
       "      <td>6051</td>\n",
       "      <td>1994-07-08</td>\n",
       "      <td>276660</td>\n",
       "      <td>36</td>\n",
       "      <td>7685.0</td>\n",
       "      <td>B</td>\n",
       "      <td>Contract Finished/Not Payed</td>\n",
       "    </tr>\n",
       "    <tr>\n",
       "      <th>111</th>\n",
       "      <td>5269</td>\n",
       "      <td>1527</td>\n",
       "      <td>1994-11-19</td>\n",
       "      <td>164052</td>\n",
       "      <td>36</td>\n",
       "      <td>4557.0</td>\n",
       "      <td>B</td>\n",
       "      <td>Contract Finished/Not Payed</td>\n",
       "    </tr>\n",
       "    <tr>\n",
       "      <th>140</th>\n",
       "      <td>7241</td>\n",
       "      <td>11021</td>\n",
       "      <td>1995-03-04</td>\n",
       "      <td>168984</td>\n",
       "      <td>24</td>\n",
       "      <td>7041.0</td>\n",
       "      <td>B</td>\n",
       "      <td>Contract Finished/Not Payed</td>\n",
       "    </tr>\n",
       "    <tr>\n",
       "      <th>155</th>\n",
       "      <td>5352</td>\n",
       "      <td>1993</td>\n",
       "      <td>1995-04-15</td>\n",
       "      <td>68400</td>\n",
       "      <td>12</td>\n",
       "      <td>5700.0</td>\n",
       "      <td>B</td>\n",
       "      <td>Contract Finished/Not Payed</td>\n",
       "    </tr>\n",
       "    <tr>\n",
       "      <th>158</th>\n",
       "      <td>5045</td>\n",
       "      <td>347</td>\n",
       "      <td>1995-05-01</td>\n",
       "      <td>187224</td>\n",
       "      <td>24</td>\n",
       "      <td>7801.0</td>\n",
       "      <td>B</td>\n",
       "      <td>Contract Finished/Not Payed</td>\n",
       "    </tr>\n",
       "    <tr>\n",
       "      <th>194</th>\n",
       "      <td>6342</td>\n",
       "      <td>6609</td>\n",
       "      <td>1995-11-12</td>\n",
       "      <td>60156</td>\n",
       "      <td>36</td>\n",
       "      <td>1671.0</td>\n",
       "      <td>B</td>\n",
       "      <td>Contract Finished/Not Payed</td>\n",
       "    </tr>\n",
       "    <tr>\n",
       "      <th>199</th>\n",
       "      <td>5805</td>\n",
       "      <td>4081</td>\n",
       "      <td>1995-11-28</td>\n",
       "      <td>137904</td>\n",
       "      <td>24</td>\n",
       "      <td>5746.0</td>\n",
       "      <td>B</td>\n",
       "      <td>Contract Finished/Not Payed</td>\n",
       "    </tr>\n",
       "    <tr>\n",
       "      <th>239</th>\n",
       "      <td>4961</td>\n",
       "      <td>19</td>\n",
       "      <td>1996-04-29</td>\n",
       "      <td>30276</td>\n",
       "      <td>12</td>\n",
       "      <td>2523.0</td>\n",
       "      <td>B</td>\n",
       "      <td>Contract Finished/Not Payed</td>\n",
       "    </tr>\n",
       "    <tr>\n",
       "      <th>281</th>\n",
       "      <td>6865</td>\n",
       "      <td>9199</td>\n",
       "      <td>1996-09-11</td>\n",
       "      <td>29448</td>\n",
       "      <td>12</td>\n",
       "      <td>2454.0</td>\n",
       "      <td>B</td>\n",
       "      <td>Contract Finished/Not Payed</td>\n",
       "    </tr>\n",
       "    <tr>\n",
       "      <th>467</th>\n",
       "      <td>5643</td>\n",
       "      <td>3273</td>\n",
       "      <td>1997-09-21</td>\n",
       "      <td>94512</td>\n",
       "      <td>12</td>\n",
       "      <td>7876.0</td>\n",
       "      <td>B</td>\n",
       "      <td>Contract Finished/Not Payed</td>\n",
       "    </tr>\n",
       "  </tbody>\n",
       "</table>\n",
       "</div>"
      ],
      "text/plain": [
       "     loan_id  account_id date_of_loan  amount  duration  monthly_payment  \\\n",
       "0       5314        1787   1993-07-05   96396        12           8033.0   \n",
       "28      6650        8073   1994-02-17   49320        12           4110.0   \n",
       "41      7066       10131   1994-05-02  215388        36           5983.0   \n",
       "49      6316        6473   1994-05-26   76908        12           6409.0   \n",
       "58      6210        5927   1994-06-06   87216        48           1817.0   \n",
       "68      6232        6051   1994-07-08  276660        36           7685.0   \n",
       "111     5269        1527   1994-11-19  164052        36           4557.0   \n",
       "140     7241       11021   1995-03-04  168984        24           7041.0   \n",
       "155     5352        1993   1995-04-15   68400        12           5700.0   \n",
       "158     5045         347   1995-05-01  187224        24           7801.0   \n",
       "194     6342        6609   1995-11-12   60156        36           1671.0   \n",
       "199     5805        4081   1995-11-28  137904        24           5746.0   \n",
       "239     4961          19   1996-04-29   30276        12           2523.0   \n",
       "281     6865        9199   1996-09-11   29448        12           2454.0   \n",
       "467     5643        3273   1997-09-21   94512        12           7876.0   \n",
       "\n",
       "    status_code                       status  \n",
       "0             B  Contract Finished/Not Payed  \n",
       "28            B  Contract Finished/Not Payed  \n",
       "41            B  Contract Finished/Not Payed  \n",
       "49            B  Contract Finished/Not Payed  \n",
       "58            B  Contract Finished/Not Payed  \n",
       "68            B  Contract Finished/Not Payed  \n",
       "111           B  Contract Finished/Not Payed  \n",
       "140           B  Contract Finished/Not Payed  \n",
       "155           B  Contract Finished/Not Payed  \n",
       "158           B  Contract Finished/Not Payed  \n",
       "194           B  Contract Finished/Not Payed  \n",
       "199           B  Contract Finished/Not Payed  \n",
       "239           B  Contract Finished/Not Payed  \n",
       "281           B  Contract Finished/Not Payed  \n",
       "467           B  Contract Finished/Not Payed  "
      ]
     },
     "execution_count": 31,
     "metadata": {},
     "output_type": "execute_result"
    }
   ],
   "source": [
    "unpayed_loans = loan_data.loc[(loan_data.account_id) & (loan_data.status == 'Contract Finished/Not Payed')]\n",
    "unpayed_loans.to_csv('eda/unpayed_loans.csv')\n",
    "unpayed_loans"
   ]
  },
  {
   "cell_type": "markdown",
   "metadata": {},
   "source": [
    "### clients with credit cards"
   ]
  },
  {
   "cell_type": "code",
   "execution_count": 35,
   "metadata": {},
   "outputs": [],
   "source": [
    "combined = client_Data.merge(disp_data, how='outer', left_on='client_id', right_on='client_id')\n",
    "combined = combined.merge(card_Data, how='outer', left_on='disp_id', right_on='disp_id')\n",
    "combined.to_csv('eda/client_card_merge.csv')"
   ]
  },
  {
   "cell_type": "code",
   "execution_count": 38,
   "metadata": {},
   "outputs": [
    {
     "data": {
      "text/plain": [
       "array([nan, 'gold', 'classic', 'junior'], dtype=object)"
      ]
     },
     "execution_count": 38,
     "metadata": {},
     "output_type": "execute_result"
    }
   ],
   "source": [
    "combined.card_type.unique()"
   ]
  },
  {
   "cell_type": "code",
   "execution_count": 44,
   "metadata": {},
   "outputs": [
    {
     "data": {
      "text/html": [
       "<div>\n",
       "<style scoped>\n",
       "    .dataframe tbody tr th:only-of-type {\n",
       "        vertical-align: middle;\n",
       "    }\n",
       "\n",
       "    .dataframe tbody tr th {\n",
       "        vertical-align: top;\n",
       "    }\n",
       "\n",
       "    .dataframe thead th {\n",
       "        text-align: right;\n",
       "    }\n",
       "</style>\n",
       "<table border=\"1\" class=\"dataframe\">\n",
       "  <thead>\n",
       "    <tr style=\"text-align: right;\">\n",
       "      <th></th>\n",
       "      <th>client_id</th>\n",
       "      <th>district_id</th>\n",
       "      <th>date_of_birth</th>\n",
       "      <th>gender</th>\n",
       "      <th>age</th>\n",
       "      <th>disp_id</th>\n",
       "      <th>account_id</th>\n",
       "      <th>type</th>\n",
       "      <th>Unnamed: 0</th>\n",
       "      <th>card_id</th>\n",
       "      <th>card_type</th>\n",
       "      <th>date_of_issue</th>\n",
       "    </tr>\n",
       "  </thead>\n",
       "  <tbody>\n",
       "    <tr>\n",
       "      <th>8</th>\n",
       "      <td>9</td>\n",
       "      <td>60</td>\n",
       "      <td>1935-10-16</td>\n",
       "      <td>Male</td>\n",
       "      <td>86.312329</td>\n",
       "      <td>9</td>\n",
       "      <td>7</td>\n",
       "      <td>OWNER</td>\n",
       "      <td>777.0</td>\n",
       "      <td>1.0</td>\n",
       "      <td>gold</td>\n",
       "      <td>1998-10-16</td>\n",
       "    </tr>\n",
       "    <tr>\n",
       "      <th>18</th>\n",
       "      <td>19</td>\n",
       "      <td>47</td>\n",
       "      <td>1942-12-28</td>\n",
       "      <td>Male</td>\n",
       "      <td>79.106849</td>\n",
       "      <td>19</td>\n",
       "      <td>14</td>\n",
       "      <td>OWNER</td>\n",
       "      <td>508.0</td>\n",
       "      <td>2.0</td>\n",
       "      <td>classic</td>\n",
       "      <td>1998-03-13</td>\n",
       "    </tr>\n",
       "    <tr>\n",
       "      <th>38</th>\n",
       "      <td>41</td>\n",
       "      <td>22</td>\n",
       "      <td>1968-08-27</td>\n",
       "      <td>Male</td>\n",
       "      <td>53.424658</td>\n",
       "      <td>41</td>\n",
       "      <td>33</td>\n",
       "      <td>OWNER</td>\n",
       "      <td>64.0</td>\n",
       "      <td>3.0</td>\n",
       "      <td>gold</td>\n",
       "      <td>1995-09-03</td>\n",
       "    </tr>\n",
       "    <tr>\n",
       "      <th>48</th>\n",
       "      <td>51</td>\n",
       "      <td>36</td>\n",
       "      <td>1979-12-02</td>\n",
       "      <td>Female</td>\n",
       "      <td>42.153425</td>\n",
       "      <td>51</td>\n",
       "      <td>43</td>\n",
       "      <td>OWNER</td>\n",
       "      <td>40.0</td>\n",
       "      <td>5.0</td>\n",
       "      <td>junior</td>\n",
       "      <td>1995-04-24</td>\n",
       "    </tr>\n",
       "    <tr>\n",
       "      <th>72</th>\n",
       "      <td>77</td>\n",
       "      <td>1</td>\n",
       "      <td>1956-02-18</td>\n",
       "      <td>Female</td>\n",
       "      <td>65.956164</td>\n",
       "      <td>77</td>\n",
       "      <td>66</td>\n",
       "      <td>OWNER</td>\n",
       "      <td>188.0</td>\n",
       "      <td>10.0</td>\n",
       "      <td>classic</td>\n",
       "      <td>1996-12-07</td>\n",
       "    </tr>\n",
       "    <tr>\n",
       "      <th>...</th>\n",
       "      <td>...</td>\n",
       "      <td>...</td>\n",
       "      <td>...</td>\n",
       "      <td>...</td>\n",
       "      <td>...</td>\n",
       "      <td>...</td>\n",
       "      <td>...</td>\n",
       "      <td>...</td>\n",
       "      <td>...</td>\n",
       "      <td>...</td>\n",
       "      <td>...</td>\n",
       "      <td>...</td>\n",
       "    </tr>\n",
       "    <tr>\n",
       "      <th>5301</th>\n",
       "      <td>13095</td>\n",
       "      <td>76</td>\n",
       "      <td>1950-03-16</td>\n",
       "      <td>Male</td>\n",
       "      <td>71.887671</td>\n",
       "      <td>12787</td>\n",
       "      <td>10650</td>\n",
       "      <td>OWNER</td>\n",
       "      <td>707.0</td>\n",
       "      <td>1195.0</td>\n",
       "      <td>gold</td>\n",
       "      <td>1998-09-04</td>\n",
       "    </tr>\n",
       "    <tr>\n",
       "      <th>5304</th>\n",
       "      <td>13113</td>\n",
       "      <td>11</td>\n",
       "      <td>1976-11-25</td>\n",
       "      <td>Male</td>\n",
       "      <td>45.172603</td>\n",
       "      <td>12805</td>\n",
       "      <td>10663</td>\n",
       "      <td>OWNER</td>\n",
       "      <td>297.0</td>\n",
       "      <td>1196.0</td>\n",
       "      <td>classic</td>\n",
       "      <td>1997-06-27</td>\n",
       "    </tr>\n",
       "    <tr>\n",
       "      <th>5311</th>\n",
       "      <td>13201</td>\n",
       "      <td>31</td>\n",
       "      <td>1937-05-17</td>\n",
       "      <td>Male</td>\n",
       "      <td>84.726027</td>\n",
       "      <td>12893</td>\n",
       "      <td>10738</td>\n",
       "      <td>OWNER</td>\n",
       "      <td>364.0</td>\n",
       "      <td>1203.0</td>\n",
       "      <td>classic</td>\n",
       "      <td>1997-09-26</td>\n",
       "    </tr>\n",
       "    <tr>\n",
       "      <th>5324</th>\n",
       "      <td>13405</td>\n",
       "      <td>32</td>\n",
       "      <td>1958-08-13</td>\n",
       "      <td>Male</td>\n",
       "      <td>63.471233</td>\n",
       "      <td>13097</td>\n",
       "      <td>10905</td>\n",
       "      <td>OWNER</td>\n",
       "      <td>579.0</td>\n",
       "      <td>1216.0</td>\n",
       "      <td>classic</td>\n",
       "      <td>1998-05-26</td>\n",
       "    </tr>\n",
       "    <tr>\n",
       "      <th>5335</th>\n",
       "      <td>13539</td>\n",
       "      <td>63</td>\n",
       "      <td>1978-09-07</td>\n",
       "      <td>Male</td>\n",
       "      <td>43.389041</td>\n",
       "      <td>13231</td>\n",
       "      <td>11013</td>\n",
       "      <td>OWNER</td>\n",
       "      <td>42.0</td>\n",
       "      <td>1223.0</td>\n",
       "      <td>junior</td>\n",
       "      <td>1995-05-02</td>\n",
       "    </tr>\n",
       "  </tbody>\n",
       "</table>\n",
       "<p>457 rows × 12 columns</p>\n",
       "</div>"
      ],
      "text/plain": [
       "      client_id  district_id date_of_birth  gender        age  disp_id  \\\n",
       "8             9           60    1935-10-16    Male  86.312329        9   \n",
       "18           19           47    1942-12-28    Male  79.106849       19   \n",
       "38           41           22    1968-08-27    Male  53.424658       41   \n",
       "48           51           36    1979-12-02  Female  42.153425       51   \n",
       "72           77            1    1956-02-18  Female  65.956164       77   \n",
       "...         ...          ...           ...     ...        ...      ...   \n",
       "5301      13095           76    1950-03-16    Male  71.887671    12787   \n",
       "5304      13113           11    1976-11-25    Male  45.172603    12805   \n",
       "5311      13201           31    1937-05-17    Male  84.726027    12893   \n",
       "5324      13405           32    1958-08-13    Male  63.471233    13097   \n",
       "5335      13539           63    1978-09-07    Male  43.389041    13231   \n",
       "\n",
       "      account_id   type  Unnamed: 0  card_id card_type date_of_issue  \n",
       "8              7  OWNER       777.0      1.0      gold    1998-10-16  \n",
       "18            14  OWNER       508.0      2.0   classic    1998-03-13  \n",
       "38            33  OWNER        64.0      3.0      gold    1995-09-03  \n",
       "48            43  OWNER        40.0      5.0    junior    1995-04-24  \n",
       "72            66  OWNER       188.0     10.0   classic    1996-12-07  \n",
       "...          ...    ...         ...      ...       ...           ...  \n",
       "5301       10650  OWNER       707.0   1195.0      gold    1998-09-04  \n",
       "5304       10663  OWNER       297.0   1196.0   classic    1997-06-27  \n",
       "5311       10738  OWNER       364.0   1203.0   classic    1997-09-26  \n",
       "5324       10905  OWNER       579.0   1216.0   classic    1998-05-26  \n",
       "5335       11013  OWNER        42.0   1223.0    junior    1995-05-02  \n",
       "\n",
       "[457 rows x 12 columns]"
      ]
     },
     "execution_count": 44,
     "metadata": {},
     "output_type": "execute_result"
    }
   ],
   "source": [
    "credit_cards = combined.loc[(combined.client_id) & (combined.card_id.notnull())]\n",
    "credit_cards.to_csv('eda/clients_with_credit_cards.csv')\n",
    "credit_cards\n"
   ]
  }
 ],
 "metadata": {
  "interpreter": {
   "hash": "31f2aee4e71d21fbe5cf8b01ff0e069b9275f58929596ceb00d14d90e3e16cd6"
  },
  "kernelspec": {
   "display_name": "Python 3.8.10 64-bit",
   "language": "python",
   "name": "python3"
  },
  "language_info": {
   "codemirror_mode": {
    "name": "ipython",
    "version": 3
   },
   "file_extension": ".py",
   "mimetype": "text/x-python",
   "name": "python",
   "nbconvert_exporter": "python",
   "pygments_lexer": "ipython3",
   "version": "3.8.10"
  },
  "orig_nbformat": 4
 },
 "nbformat": 4,
 "nbformat_minor": 2
}
