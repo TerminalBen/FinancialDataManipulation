{
 "cells": [
  {
   "cell_type": "code",
   "execution_count": 2,
   "metadata": {},
   "outputs": [],
   "source": [
    "import numpy as np\n",
    "import pandas as pd\n",
    "import datetime"
   ]
  },
  {
   "cell_type": "markdown",
   "metadata": {},
   "source": [
    "# Cleaning up the data\n",
    "## Account Data\n"
   ]
  },
  {
   "cell_type": "code",
   "execution_count": 6,
   "metadata": {},
   "outputs": [],
   "source": [
    "account_data = pd.read_csv('dataset/account.csv')\n",
    "# card_data = pd.read_csv('dataset/card.csv')\n",
    "# client_data = pd.read_csv('dataset/client.csv')\n",
    "# disp_data = pd.read_csv('dataset/disp.csv')\n",
    "# district_data = pd.read_csv('dataset/district.csv')\n",
    "# loan_data = pd.read_csv('dataset/loan.csv')\n",
    "# order_data = pd.read_csv('dataset/order.csv')\n",
    "# trans_data = pd.read_csv('dataset/trans.csv')\n"
   ]
  },
  {
   "cell_type": "code",
   "execution_count": 7,
   "metadata": {},
   "outputs": [
    {
     "data": {
      "text/html": [
       "<div>\n",
       "<style scoped>\n",
       "    .dataframe tbody tr th:only-of-type {\n",
       "        vertical-align: middle;\n",
       "    }\n",
       "\n",
       "    .dataframe tbody tr th {\n",
       "        vertical-align: top;\n",
       "    }\n",
       "\n",
       "    .dataframe thead th {\n",
       "        text-align: right;\n",
       "    }\n",
       "</style>\n",
       "<table border=\"1\" class=\"dataframe\">\n",
       "  <thead>\n",
       "    <tr style=\"text-align: right;\">\n",
       "      <th></th>\n",
       "      <th>account_id</th>\n",
       "      <th>district_id</th>\n",
       "      <th>frequency</th>\n",
       "      <th>date</th>\n",
       "    </tr>\n",
       "  </thead>\n",
       "  <tbody>\n",
       "    <tr>\n",
       "      <th>0</th>\n",
       "      <td>576</td>\n",
       "      <td>55</td>\n",
       "      <td>POPLATEK MESICNE</td>\n",
       "      <td>930101</td>\n",
       "    </tr>\n",
       "    <tr>\n",
       "      <th>1</th>\n",
       "      <td>3818</td>\n",
       "      <td>74</td>\n",
       "      <td>POPLATEK MESICNE</td>\n",
       "      <td>930101</td>\n",
       "    </tr>\n",
       "    <tr>\n",
       "      <th>2</th>\n",
       "      <td>704</td>\n",
       "      <td>55</td>\n",
       "      <td>POPLATEK MESICNE</td>\n",
       "      <td>930101</td>\n",
       "    </tr>\n",
       "    <tr>\n",
       "      <th>3</th>\n",
       "      <td>2378</td>\n",
       "      <td>16</td>\n",
       "      <td>POPLATEK MESICNE</td>\n",
       "      <td>930101</td>\n",
       "    </tr>\n",
       "    <tr>\n",
       "      <th>4</th>\n",
       "      <td>2632</td>\n",
       "      <td>24</td>\n",
       "      <td>POPLATEK MESICNE</td>\n",
       "      <td>930102</td>\n",
       "    </tr>\n",
       "  </tbody>\n",
       "</table>\n",
       "</div>"
      ],
      "text/plain": [
       "   account_id  district_id         frequency    date\n",
       "0         576           55  POPLATEK MESICNE  930101\n",
       "1        3818           74  POPLATEK MESICNE  930101\n",
       "2         704           55  POPLATEK MESICNE  930101\n",
       "3        2378           16  POPLATEK MESICNE  930101\n",
       "4        2632           24  POPLATEK MESICNE  930102"
      ]
     },
     "execution_count": 7,
     "metadata": {},
     "output_type": "execute_result"
    }
   ],
   "source": [
    "account_data.head()"
   ]
  },
  {
   "cell_type": "code",
   "execution_count": 23,
   "metadata": {},
   "outputs": [],
   "source": [
    "pd.set_option(\"display.max_rows\",5)"
   ]
  },
  {
   "cell_type": "code",
   "execution_count": 11,
   "metadata": {},
   "outputs": [],
   "source": [
    "account_data = account_data.set_index('account_id')"
   ]
  },
  {
   "cell_type": "code",
   "execution_count": 12,
   "metadata": {},
   "outputs": [
    {
     "data": {
      "text/plain": [
       "district_id    0\n",
       "frequency      0\n",
       "date           0\n",
       "dtype: int64"
      ]
     },
     "execution_count": 12,
     "metadata": {},
     "output_type": "execute_result"
    }
   ],
   "source": [
    "missing = account_data.isnull().sum()\n",
    "missing"
   ]
  },
  {
   "cell_type": "code",
   "execution_count": 15,
   "metadata": {},
   "outputs": [
    {
     "data": {
      "text/html": [
       "<div>\n",
       "<style scoped>\n",
       "    .dataframe tbody tr th:only-of-type {\n",
       "        vertical-align: middle;\n",
       "    }\n",
       "\n",
       "    .dataframe tbody tr th {\n",
       "        vertical-align: top;\n",
       "    }\n",
       "\n",
       "    .dataframe thead th {\n",
       "        text-align: right;\n",
       "    }\n",
       "</style>\n",
       "<table border=\"1\" class=\"dataframe\">\n",
       "  <thead>\n",
       "    <tr style=\"text-align: right;\">\n",
       "      <th></th>\n",
       "      <th>district_id</th>\n",
       "      <th>frequency</th>\n",
       "      <th>date</th>\n",
       "    </tr>\n",
       "    <tr>\n",
       "      <th>account_id</th>\n",
       "      <th></th>\n",
       "      <th></th>\n",
       "      <th></th>\n",
       "    </tr>\n",
       "  </thead>\n",
       "  <tbody>\n",
       "    <tr>\n",
       "      <th>576</th>\n",
       "      <td>55</td>\n",
       "      <td>POPLATEK MESICNE</td>\n",
       "      <td>930101</td>\n",
       "    </tr>\n",
       "    <tr>\n",
       "      <th>3818</th>\n",
       "      <td>74</td>\n",
       "      <td>POPLATEK MESICNE</td>\n",
       "      <td>930101</td>\n",
       "    </tr>\n",
       "    <tr>\n",
       "      <th>704</th>\n",
       "      <td>55</td>\n",
       "      <td>POPLATEK MESICNE</td>\n",
       "      <td>930101</td>\n",
       "    </tr>\n",
       "    <tr>\n",
       "      <th>2378</th>\n",
       "      <td>16</td>\n",
       "      <td>POPLATEK MESICNE</td>\n",
       "      <td>930101</td>\n",
       "    </tr>\n",
       "    <tr>\n",
       "      <th>2632</th>\n",
       "      <td>24</td>\n",
       "      <td>POPLATEK MESICNE</td>\n",
       "      <td>930102</td>\n",
       "    </tr>\n",
       "  </tbody>\n",
       "</table>\n",
       "</div>"
      ],
      "text/plain": [
       "            district_id         frequency    date\n",
       "account_id                                       \n",
       "576                  55  POPLATEK MESICNE  930101\n",
       "3818                 74  POPLATEK MESICNE  930101\n",
       "704                  55  POPLATEK MESICNE  930101\n",
       "2378                 16  POPLATEK MESICNE  930101\n",
       "2632                 24  POPLATEK MESICNE  930102"
      ]
     },
     "execution_count": 15,
     "metadata": {},
     "output_type": "execute_result"
    }
   ],
   "source": [
    "account_data.head()"
   ]
  },
  {
   "cell_type": "code",
   "execution_count": 19,
   "metadata": {},
   "outputs": [],
   "source": [
    "parsed_date = []\n",
    "for column in account_data.date:\n",
    "    parsed_date.append(str(column))"
   ]
  },
  {
   "cell_type": "code",
   "execution_count": 28,
   "metadata": {},
   "outputs": [],
   "source": [
    "cleanDate = []\n",
    "for i in parsed_date:\n",
    "    left,middle,right = i[:2],i[2:4],i[4:]\n",
    "    joined_data = left+'/'+middle+'/'+right\n",
    "    cleanDate.append(joined_data)\n",
    "cleanDate\n",
    "\n",
    "account_data.date = cleanDate"
   ]
  },
  {
   "cell_type": "code",
   "execution_count": 34,
   "metadata": {},
   "outputs": [],
   "source": [
    "date = pd.to_datetime(account_data['date'],format=\"%y/%m/%d\")\n",
    "account_data.date = date"
   ]
  },
  {
   "cell_type": "code",
   "execution_count": 35,
   "metadata": {},
   "outputs": [
    {
     "data": {
      "text/plain": [
       "account_id\n",
       "576    1993-01-01\n",
       "3818   1993-01-01\n",
       "          ...    \n",
       "1573   1997-12-29\n",
       "3276   1997-12-29\n",
       "Name: date, Length: 4500, dtype: datetime64[ns]"
      ]
     },
     "execution_count": 35,
     "metadata": {},
     "output_type": "execute_result"
    }
   ],
   "source": [
    "account_data.date"
   ]
  },
  {
   "cell_type": "code",
   "execution_count": 36,
   "metadata": {},
   "outputs": [
    {
     "data": {
      "text/html": [
       "<div>\n",
       "<style scoped>\n",
       "    .dataframe tbody tr th:only-of-type {\n",
       "        vertical-align: middle;\n",
       "    }\n",
       "\n",
       "    .dataframe tbody tr th {\n",
       "        vertical-align: top;\n",
       "    }\n",
       "\n",
       "    .dataframe thead th {\n",
       "        text-align: right;\n",
       "    }\n",
       "</style>\n",
       "<table border=\"1\" class=\"dataframe\">\n",
       "  <thead>\n",
       "    <tr style=\"text-align: right;\">\n",
       "      <th></th>\n",
       "      <th>district_id</th>\n",
       "      <th>frequency</th>\n",
       "      <th>date</th>\n",
       "    </tr>\n",
       "    <tr>\n",
       "      <th>account_id</th>\n",
       "      <th></th>\n",
       "      <th></th>\n",
       "      <th></th>\n",
       "    </tr>\n",
       "  </thead>\n",
       "  <tbody>\n",
       "    <tr>\n",
       "      <th>576</th>\n",
       "      <td>55</td>\n",
       "      <td>POPLATEK MESICNE</td>\n",
       "      <td>1993-01-01</td>\n",
       "    </tr>\n",
       "    <tr>\n",
       "      <th>3818</th>\n",
       "      <td>74</td>\n",
       "      <td>POPLATEK MESICNE</td>\n",
       "      <td>1993-01-01</td>\n",
       "    </tr>\n",
       "    <tr>\n",
       "      <th>704</th>\n",
       "      <td>55</td>\n",
       "      <td>POPLATEK MESICNE</td>\n",
       "      <td>1993-01-01</td>\n",
       "    </tr>\n",
       "    <tr>\n",
       "      <th>2378</th>\n",
       "      <td>16</td>\n",
       "      <td>POPLATEK MESICNE</td>\n",
       "      <td>1993-01-01</td>\n",
       "    </tr>\n",
       "    <tr>\n",
       "      <th>2632</th>\n",
       "      <td>24</td>\n",
       "      <td>POPLATEK MESICNE</td>\n",
       "      <td>1993-01-02</td>\n",
       "    </tr>\n",
       "  </tbody>\n",
       "</table>\n",
       "</div>"
      ],
      "text/plain": [
       "            district_id         frequency       date\n",
       "account_id                                          \n",
       "576                  55  POPLATEK MESICNE 1993-01-01\n",
       "3818                 74  POPLATEK MESICNE 1993-01-01\n",
       "704                  55  POPLATEK MESICNE 1993-01-01\n",
       "2378                 16  POPLATEK MESICNE 1993-01-01\n",
       "2632                 24  POPLATEK MESICNE 1993-01-02"
      ]
     },
     "execution_count": 36,
     "metadata": {},
     "output_type": "execute_result"
    }
   ],
   "source": [
    "account_data.head()"
   ]
  },
  {
   "cell_type": "code",
   "execution_count": 5,
   "metadata": {},
   "outputs": [
    {
     "data": {
      "text/plain": [
       "array(['POPLATEK MESICNE', 'POPLATEK PO OBRATU', 'POPLATEK TYDNE'],\n",
       "      dtype=object)"
      ]
     },
     "execution_count": 5,
     "metadata": {},
     "output_type": "execute_result"
    }
   ],
   "source": [
    "cleaned_account_data = pd.read_csv('dataset/cleanData/account_data_cleaned.csv')\n",
    "cleaned_account_data.frequency.unique()"
   ]
  },
  {
   "cell_type": "code",
   "execution_count": 6,
   "metadata": {},
   "outputs": [],
   "source": [
    "def parse_frequency(x):\n",
    "    if x == 'POPLATEK MESICNE':\n",
    "        return 'MONTHLY'\n",
    "    if x == 'POPLATEK PO OBRATU':\n",
    "        return 'TRANSACTION'\n",
    "    if x == 'POPLATEK TYDNE':\n",
    "        return 'TRANSACTION'\n",
    "    else:\n",
    "        return 'UNKNOWN'"
   ]
  },
  {
   "cell_type": "code",
   "execution_count": 7,
   "metadata": {},
   "outputs": [],
   "source": [
    "cleaned_account_data['frequency'] = cleaned_account_data['frequency'].map(parse_frequency)"
   ]
  },
  {
   "cell_type": "code",
   "execution_count": 8,
   "metadata": {},
   "outputs": [
    {
     "data": {
      "text/html": [
       "<div>\n",
       "<style scoped>\n",
       "    .dataframe tbody tr th:only-of-type {\n",
       "        vertical-align: middle;\n",
       "    }\n",
       "\n",
       "    .dataframe tbody tr th {\n",
       "        vertical-align: top;\n",
       "    }\n",
       "\n",
       "    .dataframe thead th {\n",
       "        text-align: right;\n",
       "    }\n",
       "</style>\n",
       "<table border=\"1\" class=\"dataframe\">\n",
       "  <thead>\n",
       "    <tr style=\"text-align: right;\">\n",
       "      <th></th>\n",
       "      <th>account_id</th>\n",
       "      <th>district_id</th>\n",
       "      <th>frequency</th>\n",
       "      <th>date</th>\n",
       "    </tr>\n",
       "  </thead>\n",
       "  <tbody>\n",
       "    <tr>\n",
       "      <th>0</th>\n",
       "      <td>576</td>\n",
       "      <td>55</td>\n",
       "      <td>MONTHLY</td>\n",
       "      <td>1993-01-01</td>\n",
       "    </tr>\n",
       "    <tr>\n",
       "      <th>1</th>\n",
       "      <td>3818</td>\n",
       "      <td>74</td>\n",
       "      <td>MONTHLY</td>\n",
       "      <td>1993-01-01</td>\n",
       "    </tr>\n",
       "    <tr>\n",
       "      <th>2</th>\n",
       "      <td>704</td>\n",
       "      <td>55</td>\n",
       "      <td>MONTHLY</td>\n",
       "      <td>1993-01-01</td>\n",
       "    </tr>\n",
       "    <tr>\n",
       "      <th>3</th>\n",
       "      <td>2378</td>\n",
       "      <td>16</td>\n",
       "      <td>MONTHLY</td>\n",
       "      <td>1993-01-01</td>\n",
       "    </tr>\n",
       "    <tr>\n",
       "      <th>4</th>\n",
       "      <td>2632</td>\n",
       "      <td>24</td>\n",
       "      <td>MONTHLY</td>\n",
       "      <td>1993-01-02</td>\n",
       "    </tr>\n",
       "  </tbody>\n",
       "</table>\n",
       "</div>"
      ],
      "text/plain": [
       "   account_id  district_id frequency        date\n",
       "0         576           55   MONTHLY  1993-01-01\n",
       "1        3818           74   MONTHLY  1993-01-01\n",
       "2         704           55   MONTHLY  1993-01-01\n",
       "3        2378           16   MONTHLY  1993-01-01\n",
       "4        2632           24   MONTHLY  1993-01-02"
      ]
     },
     "execution_count": 8,
     "metadata": {},
     "output_type": "execute_result"
    }
   ],
   "source": [
    "cleaned_account_data.head()"
   ]
  },
  {
   "cell_type": "code",
   "execution_count": 11,
   "metadata": {},
   "outputs": [],
   "source": [
    "cleaned_account_data.to_csv('dataset/cleanData/account_data_cleaned.csv')\n"
   ]
  },
  {
   "cell_type": "code",
   "execution_count": 46,
   "metadata": {},
   "outputs": [
    {
     "data": {
      "text/plain": [
       "district_id    0\n",
       "frequency      0\n",
       "date           0\n",
       "dtype: int64"
      ]
     },
     "execution_count": 46,
     "metadata": {},
     "output_type": "execute_result"
    }
   ],
   "source": [
    "account_data.isna().sum()"
   ]
  },
  {
   "cell_type": "code",
   "execution_count": 47,
   "metadata": {},
   "outputs": [
    {
     "data": {
      "text/plain": [
       "district_id    0\n",
       "frequency      0\n",
       "date           0\n",
       "dtype: int64"
      ]
     },
     "execution_count": 47,
     "metadata": {},
     "output_type": "execute_result"
    }
   ],
   "source": [
    "account_data.isnull().sum()"
   ]
  },
  {
   "cell_type": "markdown",
   "metadata": {},
   "source": [
    "## client data"
   ]
  },
  {
   "cell_type": "code",
   "execution_count": 57,
   "metadata": {},
   "outputs": [],
   "source": [
    "client_data = pd.read_csv('dataset/client.csv')"
   ]
  },
  {
   "cell_type": "code",
   "execution_count": 51,
   "metadata": {},
   "outputs": [
    {
     "data": {
      "text/html": [
       "<div>\n",
       "<style scoped>\n",
       "    .dataframe tbody tr th:only-of-type {\n",
       "        vertical-align: middle;\n",
       "    }\n",
       "\n",
       "    .dataframe tbody tr th {\n",
       "        vertical-align: top;\n",
       "    }\n",
       "\n",
       "    .dataframe thead th {\n",
       "        text-align: right;\n",
       "    }\n",
       "</style>\n",
       "<table border=\"1\" class=\"dataframe\">\n",
       "  <thead>\n",
       "    <tr style=\"text-align: right;\">\n",
       "      <th></th>\n",
       "      <th>client_id</th>\n",
       "      <th>birth_number</th>\n",
       "      <th>district_id</th>\n",
       "    </tr>\n",
       "  </thead>\n",
       "  <tbody>\n",
       "    <tr>\n",
       "      <th>0</th>\n",
       "      <td>1</td>\n",
       "      <td>706213</td>\n",
       "      <td>18</td>\n",
       "    </tr>\n",
       "    <tr>\n",
       "      <th>1</th>\n",
       "      <td>2</td>\n",
       "      <td>450204</td>\n",
       "      <td>1</td>\n",
       "    </tr>\n",
       "    <tr>\n",
       "      <th>2</th>\n",
       "      <td>3</td>\n",
       "      <td>406009</td>\n",
       "      <td>1</td>\n",
       "    </tr>\n",
       "    <tr>\n",
       "      <th>3</th>\n",
       "      <td>4</td>\n",
       "      <td>561201</td>\n",
       "      <td>5</td>\n",
       "    </tr>\n",
       "    <tr>\n",
       "      <th>4</th>\n",
       "      <td>5</td>\n",
       "      <td>605703</td>\n",
       "      <td>5</td>\n",
       "    </tr>\n",
       "  </tbody>\n",
       "</table>\n",
       "</div>"
      ],
      "text/plain": [
       "   client_id  birth_number  district_id\n",
       "0          1        706213           18\n",
       "1          2        450204            1\n",
       "2          3        406009            1\n",
       "3          4        561201            5\n",
       "4          5        605703            5"
      ]
     },
     "execution_count": 51,
     "metadata": {},
     "output_type": "execute_result"
    }
   ],
   "source": [
    "client_data.head(\n",
    ")"
   ]
  },
  {
   "cell_type": "code",
   "execution_count": 53,
   "metadata": {},
   "outputs": [
    {
     "data": {
      "text/plain": [
       "client_id       0\n",
       "birth_number    0\n",
       "district_id     0\n",
       "dtype: int64"
      ]
     },
     "execution_count": 53,
     "metadata": {},
     "output_type": "execute_result"
    }
   ],
   "source": [
    "missing = client_data.isnull().sum()\n",
    "missing"
   ]
  },
  {
   "cell_type": "code",
   "execution_count": 54,
   "metadata": {},
   "outputs": [
    {
     "data": {
      "text/plain": [
       "client_id       0\n",
       "birth_number    0\n",
       "district_id     0\n",
       "dtype: int64"
      ]
     },
     "execution_count": 54,
     "metadata": {},
     "output_type": "execute_result"
    }
   ],
   "source": [
    "na = client_data.isna().sum()\n",
    "na"
   ]
  },
  {
   "cell_type": "code",
   "execution_count": 4,
   "metadata": {},
   "outputs": [],
   "source": [
    "def cleanDates(date_column):\n",
    "    parsed_date = []\n",
    "    for column in date_column:\n",
    "        parsed_date.append(str(column))\n",
    "    cleanDate = []\n",
    "    for i in parsed_date:\n",
    "        left,middle,right = i[:2],i[2:4],i[4:6]\n",
    "        joined_data = left+'/'+middle+'/'+right\n",
    "        cleanDate.append(joined_data)\n",
    "    date_column = cleanDate\n",
    "    date_column = pd.to_datetime(date_column,infer_datetime_format=True)"
   ]
  },
  {
   "cell_type": "code",
   "execution_count": 56,
   "metadata": {},
   "outputs": [
    {
     "data": {
      "text/html": [
       "<div>\n",
       "<style scoped>\n",
       "    .dataframe tbody tr th:only-of-type {\n",
       "        vertical-align: middle;\n",
       "    }\n",
       "\n",
       "    .dataframe tbody tr th {\n",
       "        vertical-align: top;\n",
       "    }\n",
       "\n",
       "    .dataframe thead th {\n",
       "        text-align: right;\n",
       "    }\n",
       "</style>\n",
       "<table border=\"1\" class=\"dataframe\">\n",
       "  <thead>\n",
       "    <tr style=\"text-align: right;\">\n",
       "      <th></th>\n",
       "      <th>birth_number</th>\n",
       "      <th>district_id</th>\n",
       "    </tr>\n",
       "    <tr>\n",
       "      <th>client_id</th>\n",
       "      <th></th>\n",
       "      <th></th>\n",
       "    </tr>\n",
       "  </thead>\n",
       "  <tbody>\n",
       "    <tr>\n",
       "      <th>1</th>\n",
       "      <td>706213</td>\n",
       "      <td>18</td>\n",
       "    </tr>\n",
       "    <tr>\n",
       "      <th>2</th>\n",
       "      <td>450204</td>\n",
       "      <td>1</td>\n",
       "    </tr>\n",
       "    <tr>\n",
       "      <th>...</th>\n",
       "      <td>...</td>\n",
       "      <td>...</td>\n",
       "    </tr>\n",
       "    <tr>\n",
       "      <th>13971</th>\n",
       "      <td>626019</td>\n",
       "      <td>67</td>\n",
       "    </tr>\n",
       "    <tr>\n",
       "      <th>13998</th>\n",
       "      <td>535812</td>\n",
       "      <td>74</td>\n",
       "    </tr>\n",
       "  </tbody>\n",
       "</table>\n",
       "<p>5369 rows × 2 columns</p>\n",
       "</div>"
      ],
      "text/plain": [
       "           birth_number  district_id\n",
       "client_id                           \n",
       "1                706213           18\n",
       "2                450204            1\n",
       "...                 ...          ...\n",
       "13971            626019           67\n",
       "13998            535812           74\n",
       "\n",
       "[5369 rows x 2 columns]"
      ]
     },
     "execution_count": 56,
     "metadata": {},
     "output_type": "execute_result"
    }
   ],
   "source": [
    "client_data.set_index('client_id')"
   ]
  },
  {
   "cell_type": "code",
   "execution_count": 48,
   "metadata": {},
   "outputs": [],
   "source": [
    "def get_middle_digits(x):\n",
    "    return str(x)[2:4]"
   ]
  },
  {
   "cell_type": "code",
   "execution_count": 38,
   "metadata": {},
   "outputs": [],
   "source": [
    "def get_day(x):\n",
    "    return int(str(x)[4:6])"
   ]
  },
  {
   "cell_type": "code",
   "execution_count": 49,
   "metadata": {},
   "outputs": [],
   "source": [
    "def get_month(x):\n",
    "    month = int(get_middle_digits(x))\n",
    "    if month >50:\n",
    "        return month -50\n",
    "    else:\n",
    "        return month"
   ]
  },
  {
   "cell_type": "code",
   "execution_count": 36,
   "metadata": {},
   "outputs": [],
   "source": [
    "def get_year(x):\n",
    "    return int(str(x)[:2])"
   ]
  },
  {
   "cell_type": "code",
   "execution_count": 52,
   "metadata": {},
   "outputs": [],
   "source": [
    "def get_gender(x):\n",
    "    month = int(get_middle_digits(x))\n",
    "    if month > 50:\n",
    "        return('Female')\n",
    "    else:\n",
    "        return('Male')"
   ]
  },
  {
   "cell_type": "code",
   "execution_count": 55,
   "metadata": {},
   "outputs": [],
   "source": [
    "def parse_Dates(x):\n",
    "    year = get_year(x) + 1900\n",
    "    month = get_month(x)\n",
    "    day = get_day(x)\n",
    "    return datetime.datetime(year,month,day)"
   ]
  },
  {
   "cell_type": "code",
   "execution_count": 58,
   "metadata": {},
   "outputs": [],
   "source": [
    "client_data['Date_of_birth'] = client_data['birth_number'].map(parse_Dates)"
   ]
  },
  {
   "cell_type": "code",
   "execution_count": 60,
   "metadata": {},
   "outputs": [],
   "source": [
    "client_data['Gender'] = client_data['birth_number'].map(get_gender)"
   ]
  },
  {
   "cell_type": "code",
   "execution_count": 63,
   "metadata": {},
   "outputs": [
    {
     "name": "stderr",
     "output_type": "stream",
     "text": [
      "/tmp/ipykernel_74949/2773485492.py:1: FutureWarning: In a future version of pandas all arguments of DataFrame.drop except for the argument 'labels' will be keyword-only\n",
      "  client_data = client_data.drop('birth_number',1)\n"
     ]
    }
   ],
   "source": [
    "client_data = client_data.drop('birth_number',1)"
   ]
  },
  {
   "cell_type": "code",
   "execution_count": 65,
   "metadata": {},
   "outputs": [],
   "source": [
    "client_data = client_data.rename(columns={'Date_of_birth':'date_of_birth','Gender':'gender'})"
   ]
  },
  {
   "cell_type": "code",
   "execution_count": 66,
   "metadata": {},
   "outputs": [
    {
     "data": {
      "text/html": [
       "<div>\n",
       "<style scoped>\n",
       "    .dataframe tbody tr th:only-of-type {\n",
       "        vertical-align: middle;\n",
       "    }\n",
       "\n",
       "    .dataframe tbody tr th {\n",
       "        vertical-align: top;\n",
       "    }\n",
       "\n",
       "    .dataframe thead th {\n",
       "        text-align: right;\n",
       "    }\n",
       "</style>\n",
       "<table border=\"1\" class=\"dataframe\">\n",
       "  <thead>\n",
       "    <tr style=\"text-align: right;\">\n",
       "      <th></th>\n",
       "      <th>client_id</th>\n",
       "      <th>district_id</th>\n",
       "      <th>date_of_birth</th>\n",
       "      <th>gender</th>\n",
       "    </tr>\n",
       "  </thead>\n",
       "  <tbody>\n",
       "    <tr>\n",
       "      <th>0</th>\n",
       "      <td>1</td>\n",
       "      <td>18</td>\n",
       "      <td>1970-12-13</td>\n",
       "      <td>Female</td>\n",
       "    </tr>\n",
       "    <tr>\n",
       "      <th>1</th>\n",
       "      <td>2</td>\n",
       "      <td>1</td>\n",
       "      <td>1945-02-04</td>\n",
       "      <td>Male</td>\n",
       "    </tr>\n",
       "    <tr>\n",
       "      <th>2</th>\n",
       "      <td>3</td>\n",
       "      <td>1</td>\n",
       "      <td>1940-10-09</td>\n",
       "      <td>Female</td>\n",
       "    </tr>\n",
       "    <tr>\n",
       "      <th>3</th>\n",
       "      <td>4</td>\n",
       "      <td>5</td>\n",
       "      <td>1956-12-01</td>\n",
       "      <td>Male</td>\n",
       "    </tr>\n",
       "    <tr>\n",
       "      <th>4</th>\n",
       "      <td>5</td>\n",
       "      <td>5</td>\n",
       "      <td>1960-07-03</td>\n",
       "      <td>Female</td>\n",
       "    </tr>\n",
       "  </tbody>\n",
       "</table>\n",
       "</div>"
      ],
      "text/plain": [
       "   client_id  district_id date_of_birth  gender\n",
       "0          1           18    1970-12-13  Female\n",
       "1          2            1    1945-02-04    Male\n",
       "2          3            1    1940-10-09  Female\n",
       "3          4            5    1956-12-01    Male\n",
       "4          5            5    1960-07-03  Female"
      ]
     },
     "execution_count": 66,
     "metadata": {},
     "output_type": "execute_result"
    }
   ],
   "source": [
    "client_data.head()"
   ]
  },
  {
   "cell_type": "code",
   "execution_count": 76,
   "metadata": {},
   "outputs": [],
   "source": [
    "client_data = client_data.set_index('client_id')"
   ]
  },
  {
   "cell_type": "code",
   "execution_count": 77,
   "metadata": {},
   "outputs": [],
   "source": [
    "client_data.to_csv('dataset/cleanData/client_Data_cleaned.csv')"
   ]
  },
  {
   "cell_type": "code",
   "execution_count": 78,
   "metadata": {},
   "outputs": [
    {
     "data": {
      "text/html": [
       "<div>\n",
       "<style scoped>\n",
       "    .dataframe tbody tr th:only-of-type {\n",
       "        vertical-align: middle;\n",
       "    }\n",
       "\n",
       "    .dataframe tbody tr th {\n",
       "        vertical-align: top;\n",
       "    }\n",
       "\n",
       "    .dataframe thead th {\n",
       "        text-align: right;\n",
       "    }\n",
       "</style>\n",
       "<table border=\"1\" class=\"dataframe\">\n",
       "  <thead>\n",
       "    <tr style=\"text-align: right;\">\n",
       "      <th></th>\n",
       "      <th>district_id</th>\n",
       "      <th>date_of_birth</th>\n",
       "      <th>gender</th>\n",
       "    </tr>\n",
       "    <tr>\n",
       "      <th>client_id</th>\n",
       "      <th></th>\n",
       "      <th></th>\n",
       "      <th></th>\n",
       "    </tr>\n",
       "  </thead>\n",
       "  <tbody>\n",
       "    <tr>\n",
       "      <th>1</th>\n",
       "      <td>18</td>\n",
       "      <td>1970-12-13</td>\n",
       "      <td>Female</td>\n",
       "    </tr>\n",
       "    <tr>\n",
       "      <th>2</th>\n",
       "      <td>1</td>\n",
       "      <td>1945-02-04</td>\n",
       "      <td>Male</td>\n",
       "    </tr>\n",
       "    <tr>\n",
       "      <th>3</th>\n",
       "      <td>1</td>\n",
       "      <td>1940-10-09</td>\n",
       "      <td>Female</td>\n",
       "    </tr>\n",
       "    <tr>\n",
       "      <th>4</th>\n",
       "      <td>5</td>\n",
       "      <td>1956-12-01</td>\n",
       "      <td>Male</td>\n",
       "    </tr>\n",
       "    <tr>\n",
       "      <th>5</th>\n",
       "      <td>5</td>\n",
       "      <td>1960-07-03</td>\n",
       "      <td>Female</td>\n",
       "    </tr>\n",
       "  </tbody>\n",
       "</table>\n",
       "</div>"
      ],
      "text/plain": [
       "           district_id date_of_birth  gender\n",
       "client_id                                   \n",
       "1                   18    1970-12-13  Female\n",
       "2                    1    1945-02-04    Male\n",
       "3                    1    1940-10-09  Female\n",
       "4                    5    1956-12-01    Male\n",
       "5                    5    1960-07-03  Female"
      ]
     },
     "execution_count": 78,
     "metadata": {},
     "output_type": "execute_result"
    }
   ],
   "source": [
    "client_data.head()"
   ]
  },
  {
   "cell_type": "code",
   "execution_count": 110,
   "metadata": {},
   "outputs": [],
   "source": [
    "def get_age(x):\n",
    "    today = datetime.datetime.today()\n",
    "    days=  today-x\n",
    "    return days.days /365 "
   ]
  },
  {
   "cell_type": "code",
   "execution_count": 111,
   "metadata": {},
   "outputs": [],
   "source": [
    "client_data['age'] = client_data['date_of_birth'].map(get_age)"
   ]
  },
  {
   "cell_type": "code",
   "execution_count": 112,
   "metadata": {},
   "outputs": [
    {
     "data": {
      "text/html": [
       "<div>\n",
       "<style scoped>\n",
       "    .dataframe tbody tr th:only-of-type {\n",
       "        vertical-align: middle;\n",
       "    }\n",
       "\n",
       "    .dataframe tbody tr th {\n",
       "        vertical-align: top;\n",
       "    }\n",
       "\n",
       "    .dataframe thead th {\n",
       "        text-align: right;\n",
       "    }\n",
       "</style>\n",
       "<table border=\"1\" class=\"dataframe\">\n",
       "  <thead>\n",
       "    <tr style=\"text-align: right;\">\n",
       "      <th></th>\n",
       "      <th>district_id</th>\n",
       "      <th>date_of_birth</th>\n",
       "      <th>gender</th>\n",
       "      <th>age</th>\n",
       "    </tr>\n",
       "    <tr>\n",
       "      <th>client_id</th>\n",
       "      <th></th>\n",
       "      <th></th>\n",
       "      <th></th>\n",
       "      <th></th>\n",
       "    </tr>\n",
       "  </thead>\n",
       "  <tbody>\n",
       "    <tr>\n",
       "      <th>1</th>\n",
       "      <td>18</td>\n",
       "      <td>1970-12-13</td>\n",
       "      <td>Female</td>\n",
       "      <td>51.128767</td>\n",
       "    </tr>\n",
       "    <tr>\n",
       "      <th>2</th>\n",
       "      <td>1</td>\n",
       "      <td>1945-02-04</td>\n",
       "      <td>Male</td>\n",
       "      <td>77.000000</td>\n",
       "    </tr>\n",
       "    <tr>\n",
       "      <th>3</th>\n",
       "      <td>1</td>\n",
       "      <td>1940-10-09</td>\n",
       "      <td>Female</td>\n",
       "      <td>81.326027</td>\n",
       "    </tr>\n",
       "    <tr>\n",
       "      <th>4</th>\n",
       "      <td>5</td>\n",
       "      <td>1956-12-01</td>\n",
       "      <td>Male</td>\n",
       "      <td>65.169863</td>\n",
       "    </tr>\n",
       "    <tr>\n",
       "      <th>5</th>\n",
       "      <td>5</td>\n",
       "      <td>1960-07-03</td>\n",
       "      <td>Female</td>\n",
       "      <td>61.580822</td>\n",
       "    </tr>\n",
       "  </tbody>\n",
       "</table>\n",
       "</div>"
      ],
      "text/plain": [
       "           district_id date_of_birth  gender        age\n",
       "client_id                                              \n",
       "1                   18    1970-12-13  Female  51.128767\n",
       "2                    1    1945-02-04    Male  77.000000\n",
       "3                    1    1940-10-09  Female  81.326027\n",
       "4                    5    1956-12-01    Male  65.169863\n",
       "5                    5    1960-07-03  Female  61.580822"
      ]
     },
     "execution_count": 112,
     "metadata": {},
     "output_type": "execute_result"
    }
   ],
   "source": [
    "client_data.head()"
   ]
  },
  {
   "cell_type": "code",
   "execution_count": null,
   "metadata": {},
   "outputs": [],
   "source": [
    "client_data.to_csv('dataset/cleanData/client_Data_cleaned.csv')"
   ]
  },
  {
   "cell_type": "markdown",
   "metadata": {},
   "source": [
    "## Card Data"
   ]
  },
  {
   "cell_type": "code",
   "execution_count": 3,
   "metadata": {},
   "outputs": [
    {
     "data": {
      "text/html": [
       "<div>\n",
       "<style scoped>\n",
       "    .dataframe tbody tr th:only-of-type {\n",
       "        vertical-align: middle;\n",
       "    }\n",
       "\n",
       "    .dataframe tbody tr th {\n",
       "        vertical-align: top;\n",
       "    }\n",
       "\n",
       "    .dataframe thead th {\n",
       "        text-align: right;\n",
       "    }\n",
       "</style>\n",
       "<table border=\"1\" class=\"dataframe\">\n",
       "  <thead>\n",
       "    <tr style=\"text-align: right;\">\n",
       "      <th></th>\n",
       "      <th>card_id</th>\n",
       "      <th>disp_id</th>\n",
       "      <th>type</th>\n",
       "      <th>issued</th>\n",
       "    </tr>\n",
       "  </thead>\n",
       "  <tbody>\n",
       "    <tr>\n",
       "      <th>0</th>\n",
       "      <td>1005</td>\n",
       "      <td>9285</td>\n",
       "      <td>classic</td>\n",
       "      <td>931107 00:00:00</td>\n",
       "    </tr>\n",
       "    <tr>\n",
       "      <th>1</th>\n",
       "      <td>104</td>\n",
       "      <td>588</td>\n",
       "      <td>classic</td>\n",
       "      <td>940119 00:00:00</td>\n",
       "    </tr>\n",
       "    <tr>\n",
       "      <th>2</th>\n",
       "      <td>747</td>\n",
       "      <td>4915</td>\n",
       "      <td>classic</td>\n",
       "      <td>940205 00:00:00</td>\n",
       "    </tr>\n",
       "    <tr>\n",
       "      <th>3</th>\n",
       "      <td>70</td>\n",
       "      <td>439</td>\n",
       "      <td>classic</td>\n",
       "      <td>940208 00:00:00</td>\n",
       "    </tr>\n",
       "    <tr>\n",
       "      <th>4</th>\n",
       "      <td>577</td>\n",
       "      <td>3687</td>\n",
       "      <td>classic</td>\n",
       "      <td>940215 00:00:00</td>\n",
       "    </tr>\n",
       "  </tbody>\n",
       "</table>\n",
       "</div>"
      ],
      "text/plain": [
       "   card_id  disp_id     type           issued\n",
       "0     1005     9285  classic  931107 00:00:00\n",
       "1      104      588  classic  940119 00:00:00\n",
       "2      747     4915  classic  940205 00:00:00\n",
       "3       70      439  classic  940208 00:00:00\n",
       "4      577     3687  classic  940215 00:00:00"
      ]
     },
     "execution_count": 3,
     "metadata": {},
     "output_type": "execute_result"
    }
   ],
   "source": [
    "card_data = pd.read_csv('dataset/card.csv')\n",
    "card_data.head()"
   ]
  },
  {
   "cell_type": "code",
   "execution_count": 6,
   "metadata": {},
   "outputs": [],
   "source": [
    "cleanDates(card_data.issued)"
   ]
  },
  {
   "cell_type": "code",
   "execution_count": 8,
   "metadata": {},
   "outputs": [
    {
     "data": {
      "text/plain": [
       "0      931107 00:00:00\n",
       "1      940119 00:00:00\n",
       "2      940205 00:00:00\n",
       "3      940208 00:00:00\n",
       "4      940215 00:00:00\n",
       "            ...       \n",
       "887    981226 00:00:00\n",
       "888    981228 00:00:00\n",
       "889    981228 00:00:00\n",
       "890    981229 00:00:00\n",
       "891    981229 00:00:00\n",
       "Name: issued, Length: 892, dtype: object"
      ]
     },
     "execution_count": 8,
     "metadata": {},
     "output_type": "execute_result"
    }
   ],
   "source": [
    "card_data.issued"
   ]
  },
  {
   "cell_type": "code",
   "execution_count": 10,
   "metadata": {},
   "outputs": [],
   "source": [
    "new_date_row = cleanDates(card_data.issued)"
   ]
  },
  {
   "cell_type": "code",
   "execution_count": 13,
   "metadata": {},
   "outputs": [],
   "source": [
    "card_data['issued'] = pd.to_datetime(card_data['issued'].str[:6],format='%y%m%d')"
   ]
  },
  {
   "cell_type": "code",
   "execution_count": 14,
   "metadata": {},
   "outputs": [
    {
     "data": {
      "text/html": [
       "<div>\n",
       "<style scoped>\n",
       "    .dataframe tbody tr th:only-of-type {\n",
       "        vertical-align: middle;\n",
       "    }\n",
       "\n",
       "    .dataframe tbody tr th {\n",
       "        vertical-align: top;\n",
       "    }\n",
       "\n",
       "    .dataframe thead th {\n",
       "        text-align: right;\n",
       "    }\n",
       "</style>\n",
       "<table border=\"1\" class=\"dataframe\">\n",
       "  <thead>\n",
       "    <tr style=\"text-align: right;\">\n",
       "      <th></th>\n",
       "      <th>card_id</th>\n",
       "      <th>disp_id</th>\n",
       "      <th>type</th>\n",
       "      <th>issued</th>\n",
       "      <th>issues</th>\n",
       "    </tr>\n",
       "  </thead>\n",
       "  <tbody>\n",
       "    <tr>\n",
       "      <th>0</th>\n",
       "      <td>1005</td>\n",
       "      <td>9285</td>\n",
       "      <td>classic</td>\n",
       "      <td>1993-11-07</td>\n",
       "      <td>1993-11-07</td>\n",
       "    </tr>\n",
       "    <tr>\n",
       "      <th>1</th>\n",
       "      <td>104</td>\n",
       "      <td>588</td>\n",
       "      <td>classic</td>\n",
       "      <td>1994-01-19</td>\n",
       "      <td>1994-01-19</td>\n",
       "    </tr>\n",
       "    <tr>\n",
       "      <th>2</th>\n",
       "      <td>747</td>\n",
       "      <td>4915</td>\n",
       "      <td>classic</td>\n",
       "      <td>1994-02-05</td>\n",
       "      <td>1994-02-05</td>\n",
       "    </tr>\n",
       "    <tr>\n",
       "      <th>3</th>\n",
       "      <td>70</td>\n",
       "      <td>439</td>\n",
       "      <td>classic</td>\n",
       "      <td>1994-02-08</td>\n",
       "      <td>1994-02-08</td>\n",
       "    </tr>\n",
       "    <tr>\n",
       "      <th>4</th>\n",
       "      <td>577</td>\n",
       "      <td>3687</td>\n",
       "      <td>classic</td>\n",
       "      <td>1994-02-15</td>\n",
       "      <td>1994-02-15</td>\n",
       "    </tr>\n",
       "  </tbody>\n",
       "</table>\n",
       "</div>"
      ],
      "text/plain": [
       "   card_id  disp_id     type     issued     issues\n",
       "0     1005     9285  classic 1993-11-07 1993-11-07\n",
       "1      104      588  classic 1994-01-19 1994-01-19\n",
       "2      747     4915  classic 1994-02-05 1994-02-05\n",
       "3       70      439  classic 1994-02-08 1994-02-08\n",
       "4      577     3687  classic 1994-02-15 1994-02-15"
      ]
     },
     "execution_count": 14,
     "metadata": {},
     "output_type": "execute_result"
    }
   ],
   "source": [
    "card_data.head()"
   ]
  },
  {
   "cell_type": "code",
   "execution_count": 23,
   "metadata": {},
   "outputs": [
    {
     "name": "stderr",
     "output_type": "stream",
     "text": [
      "/tmp/ipykernel_74949/1384039306.py:1: FutureWarning: In a future version of pandas all arguments of DataFrame.drop except for the argument 'labels' will be keyword-only\n",
      "  card_data = card_data.drop('issues',1)\n"
     ]
    }
   ],
   "source": [
    "card_data = card_data.drop('issues',1)"
   ]
  },
  {
   "cell_type": "code",
   "execution_count": 24,
   "metadata": {},
   "outputs": [
    {
     "data": {
      "text/plain": [
       "card_id    0\n",
       "disp_id    0\n",
       "type       0\n",
       "issued     0\n",
       "dtype: int64"
      ]
     },
     "execution_count": 24,
     "metadata": {},
     "output_type": "execute_result"
    }
   ],
   "source": [
    "card_data.isnull().sum()"
   ]
  },
  {
   "cell_type": "code",
   "execution_count": 68,
   "metadata": {},
   "outputs": [],
   "source": [
    "card_data = card_data.rename(columns={'type':'card_type','issued':'date_of_issue'})"
   ]
  },
  {
   "cell_type": "code",
   "execution_count": 69,
   "metadata": {},
   "outputs": [
    {
     "data": {
      "text/html": [
       "<div>\n",
       "<style scoped>\n",
       "    .dataframe tbody tr th:only-of-type {\n",
       "        vertical-align: middle;\n",
       "    }\n",
       "\n",
       "    .dataframe tbody tr th {\n",
       "        vertical-align: top;\n",
       "    }\n",
       "\n",
       "    .dataframe thead th {\n",
       "        text-align: right;\n",
       "    }\n",
       "</style>\n",
       "<table border=\"1\" class=\"dataframe\">\n",
       "  <thead>\n",
       "    <tr style=\"text-align: right;\">\n",
       "      <th></th>\n",
       "      <th>card_id</th>\n",
       "      <th>disp_id</th>\n",
       "      <th>card_type</th>\n",
       "      <th>date_of_issue</th>\n",
       "    </tr>\n",
       "  </thead>\n",
       "  <tbody>\n",
       "    <tr>\n",
       "      <th>0</th>\n",
       "      <td>1005</td>\n",
       "      <td>9285</td>\n",
       "      <td>classic</td>\n",
       "      <td>1993-11-07</td>\n",
       "    </tr>\n",
       "    <tr>\n",
       "      <th>1</th>\n",
       "      <td>104</td>\n",
       "      <td>588</td>\n",
       "      <td>classic</td>\n",
       "      <td>1994-01-19</td>\n",
       "    </tr>\n",
       "    <tr>\n",
       "      <th>2</th>\n",
       "      <td>747</td>\n",
       "      <td>4915</td>\n",
       "      <td>classic</td>\n",
       "      <td>1994-02-05</td>\n",
       "    </tr>\n",
       "    <tr>\n",
       "      <th>3</th>\n",
       "      <td>70</td>\n",
       "      <td>439</td>\n",
       "      <td>classic</td>\n",
       "      <td>1994-02-08</td>\n",
       "    </tr>\n",
       "    <tr>\n",
       "      <th>4</th>\n",
       "      <td>577</td>\n",
       "      <td>3687</td>\n",
       "      <td>classic</td>\n",
       "      <td>1994-02-15</td>\n",
       "    </tr>\n",
       "  </tbody>\n",
       "</table>\n",
       "</div>"
      ],
      "text/plain": [
       "   card_id  disp_id card_type date_of_issue\n",
       "0     1005     9285   classic    1993-11-07\n",
       "1      104      588   classic    1994-01-19\n",
       "2      747     4915   classic    1994-02-05\n",
       "3       70      439   classic    1994-02-08\n",
       "4      577     3687   classic    1994-02-15"
      ]
     },
     "execution_count": 69,
     "metadata": {},
     "output_type": "execute_result"
    }
   ],
   "source": [
    "card_data.head()"
   ]
  },
  {
   "cell_type": "code",
   "execution_count": 71,
   "metadata": {},
   "outputs": [
    {
     "data": {
      "text/html": [
       "<div>\n",
       "<style scoped>\n",
       "    .dataframe tbody tr th:only-of-type {\n",
       "        vertical-align: middle;\n",
       "    }\n",
       "\n",
       "    .dataframe tbody tr th {\n",
       "        vertical-align: top;\n",
       "    }\n",
       "\n",
       "    .dataframe thead th {\n",
       "        text-align: right;\n",
       "    }\n",
       "</style>\n",
       "<table border=\"1\" class=\"dataframe\">\n",
       "  <thead>\n",
       "    <tr style=\"text-align: right;\">\n",
       "      <th></th>\n",
       "      <th>disp_id</th>\n",
       "      <th>card_type</th>\n",
       "      <th>date_of_issue</th>\n",
       "    </tr>\n",
       "    <tr>\n",
       "      <th>card_id</th>\n",
       "      <th></th>\n",
       "      <th></th>\n",
       "      <th></th>\n",
       "    </tr>\n",
       "  </thead>\n",
       "  <tbody>\n",
       "    <tr>\n",
       "      <th>1005</th>\n",
       "      <td>9285</td>\n",
       "      <td>classic</td>\n",
       "      <td>1993-11-07</td>\n",
       "    </tr>\n",
       "    <tr>\n",
       "      <th>104</th>\n",
       "      <td>588</td>\n",
       "      <td>classic</td>\n",
       "      <td>1994-01-19</td>\n",
       "    </tr>\n",
       "    <tr>\n",
       "      <th>747</th>\n",
       "      <td>4915</td>\n",
       "      <td>classic</td>\n",
       "      <td>1994-02-05</td>\n",
       "    </tr>\n",
       "    <tr>\n",
       "      <th>70</th>\n",
       "      <td>439</td>\n",
       "      <td>classic</td>\n",
       "      <td>1994-02-08</td>\n",
       "    </tr>\n",
       "    <tr>\n",
       "      <th>577</th>\n",
       "      <td>3687</td>\n",
       "      <td>classic</td>\n",
       "      <td>1994-02-15</td>\n",
       "    </tr>\n",
       "    <tr>\n",
       "      <th>...</th>\n",
       "      <td>...</td>\n",
       "      <td>...</td>\n",
       "      <td>...</td>\n",
       "    </tr>\n",
       "    <tr>\n",
       "      <th>125</th>\n",
       "      <td>694</td>\n",
       "      <td>gold</td>\n",
       "      <td>1998-12-26</td>\n",
       "    </tr>\n",
       "    <tr>\n",
       "      <th>674</th>\n",
       "      <td>4360</td>\n",
       "      <td>classic</td>\n",
       "      <td>1998-12-28</td>\n",
       "    </tr>\n",
       "    <tr>\n",
       "      <th>322</th>\n",
       "      <td>2063</td>\n",
       "      <td>classic</td>\n",
       "      <td>1998-12-28</td>\n",
       "    </tr>\n",
       "    <tr>\n",
       "      <th>685</th>\n",
       "      <td>4467</td>\n",
       "      <td>classic</td>\n",
       "      <td>1998-12-29</td>\n",
       "    </tr>\n",
       "    <tr>\n",
       "      <th>635</th>\n",
       "      <td>4083</td>\n",
       "      <td>classic</td>\n",
       "      <td>1998-12-29</td>\n",
       "    </tr>\n",
       "  </tbody>\n",
       "</table>\n",
       "<p>892 rows × 3 columns</p>\n",
       "</div>"
      ],
      "text/plain": [
       "         disp_id card_type date_of_issue\n",
       "card_id                                 \n",
       "1005        9285   classic    1993-11-07\n",
       "104          588   classic    1994-01-19\n",
       "747         4915   classic    1994-02-05\n",
       "70           439   classic    1994-02-08\n",
       "577         3687   classic    1994-02-15\n",
       "...          ...       ...           ...\n",
       "125          694      gold    1998-12-26\n",
       "674         4360   classic    1998-12-28\n",
       "322         2063   classic    1998-12-28\n",
       "685         4467   classic    1998-12-29\n",
       "635         4083   classic    1998-12-29\n",
       "\n",
       "[892 rows x 3 columns]"
      ]
     },
     "execution_count": 71,
     "metadata": {},
     "output_type": "execute_result"
    }
   ],
   "source": [
    "card_data.set_index('card_id')"
   ]
  },
  {
   "cell_type": "code",
   "execution_count": 72,
   "metadata": {},
   "outputs": [],
   "source": [
    "card_data.to_csv('dataset/cleanData/card_Data_cleaned.csv')\n"
   ]
  },
  {
   "cell_type": "markdown",
   "metadata": {},
   "source": [
    "## cleaning the Disp Data "
   ]
  },
  {
   "cell_type": "code",
   "execution_count": 12,
   "metadata": {},
   "outputs": [],
   "source": [
    "disp_data = pd.read_csv('dataset/disp.csv')"
   ]
  },
  {
   "cell_type": "code",
   "execution_count": 13,
   "metadata": {},
   "outputs": [
    {
     "data": {
      "text/html": [
       "<div>\n",
       "<style scoped>\n",
       "    .dataframe tbody tr th:only-of-type {\n",
       "        vertical-align: middle;\n",
       "    }\n",
       "\n",
       "    .dataframe tbody tr th {\n",
       "        vertical-align: top;\n",
       "    }\n",
       "\n",
       "    .dataframe thead th {\n",
       "        text-align: right;\n",
       "    }\n",
       "</style>\n",
       "<table border=\"1\" class=\"dataframe\">\n",
       "  <thead>\n",
       "    <tr style=\"text-align: right;\">\n",
       "      <th></th>\n",
       "      <th>disp_id</th>\n",
       "      <th>client_id</th>\n",
       "      <th>account_id</th>\n",
       "      <th>type</th>\n",
       "    </tr>\n",
       "  </thead>\n",
       "  <tbody>\n",
       "    <tr>\n",
       "      <th>0</th>\n",
       "      <td>1</td>\n",
       "      <td>1</td>\n",
       "      <td>1</td>\n",
       "      <td>OWNER</td>\n",
       "    </tr>\n",
       "    <tr>\n",
       "      <th>1</th>\n",
       "      <td>2</td>\n",
       "      <td>2</td>\n",
       "      <td>2</td>\n",
       "      <td>OWNER</td>\n",
       "    </tr>\n",
       "    <tr>\n",
       "      <th>2</th>\n",
       "      <td>3</td>\n",
       "      <td>3</td>\n",
       "      <td>2</td>\n",
       "      <td>DISPONENT</td>\n",
       "    </tr>\n",
       "    <tr>\n",
       "      <th>3</th>\n",
       "      <td>4</td>\n",
       "      <td>4</td>\n",
       "      <td>3</td>\n",
       "      <td>OWNER</td>\n",
       "    </tr>\n",
       "    <tr>\n",
       "      <th>4</th>\n",
       "      <td>5</td>\n",
       "      <td>5</td>\n",
       "      <td>3</td>\n",
       "      <td>DISPONENT</td>\n",
       "    </tr>\n",
       "  </tbody>\n",
       "</table>\n",
       "</div>"
      ],
      "text/plain": [
       "   disp_id  client_id  account_id       type\n",
       "0        1          1           1      OWNER\n",
       "1        2          2           2      OWNER\n",
       "2        3          3           2  DISPONENT\n",
       "3        4          4           3      OWNER\n",
       "4        5          5           3  DISPONENT"
      ]
     },
     "execution_count": 13,
     "metadata": {},
     "output_type": "execute_result"
    }
   ],
   "source": [
    "disp_data.head()"
   ]
  },
  {
   "cell_type": "code",
   "execution_count": 14,
   "metadata": {},
   "outputs": [],
   "source": [
    "disp_data = disp_data.set_index('disp_id')"
   ]
  },
  {
   "cell_type": "code",
   "execution_count": 15,
   "metadata": {},
   "outputs": [],
   "source": [
    "disp_data.to_csv('dataset/cleanData/disp_data_cleaned')"
   ]
  },
  {
   "cell_type": "code",
   "execution_count": 17,
   "metadata": {},
   "outputs": [
    {
     "data": {
      "text/plain": [
       "client_id     0\n",
       "account_id    0\n",
       "type          0\n",
       "dtype: int64"
      ]
     },
     "execution_count": 17,
     "metadata": {},
     "output_type": "execute_result"
    }
   ],
   "source": [
    "disp_data.isna().sum()"
   ]
  },
  {
   "cell_type": "markdown",
   "metadata": {},
   "source": [
    "## cleaning the district data"
   ]
  },
  {
   "cell_type": "code",
   "execution_count": 18,
   "metadata": {},
   "outputs": [],
   "source": [
    "district_data = pd.read_csv('dataset/district.csv')"
   ]
  },
  {
   "cell_type": "code",
   "execution_count": 22,
   "metadata": {},
   "outputs": [
    {
     "data": {
      "text/plain": [
       "A1     0\n",
       "A2     0\n",
       "A3     0\n",
       "A4     0\n",
       "A5     0\n",
       "A6     0\n",
       "A7     0\n",
       "A8     0\n",
       "A9     0\n",
       "A10    0\n",
       "A11    0\n",
       "A12    0\n",
       "A13    0\n",
       "A14    0\n",
       "A15    0\n",
       "A16    0\n",
       "dtype: int64"
      ]
     },
     "execution_count": 22,
     "metadata": {},
     "output_type": "execute_result"
    }
   ],
   "source": [
    "district_data.isna().sum()"
   ]
  },
  {
   "cell_type": "code",
   "execution_count": 23,
   "metadata": {},
   "outputs": [],
   "source": [
    "district_data = district_data.rename(columns={'A1':'district_id','A2':'district_name','A3':'region','A4':'total_inhabitants',\n",
    "'A5':'num_munipalities_less_499','A6':'500_to_1999','A7':'2000_to_9999','A8':'greater_than_10000','A9':'num_cities','A10':'ratio_urban',\n",
    "'A11':'avg_salary','A12':'unemp_rate_95','A13':'unemp_rate_96','A14':'enterpreneurs_per_1000','A15':'num_crimes95','A16':'num_crimes96'})"
   ]
  },
  {
   "cell_type": "code",
   "execution_count": 29,
   "metadata": {},
   "outputs": [
    {
     "data": {
      "text/html": [
       "<div>\n",
       "<style scoped>\n",
       "    .dataframe tbody tr th:only-of-type {\n",
       "        vertical-align: middle;\n",
       "    }\n",
       "\n",
       "    .dataframe tbody tr th {\n",
       "        vertical-align: top;\n",
       "    }\n",
       "\n",
       "    .dataframe thead th {\n",
       "        text-align: right;\n",
       "    }\n",
       "</style>\n",
       "<table border=\"1\" class=\"dataframe\">\n",
       "  <thead>\n",
       "    <tr style=\"text-align: right;\">\n",
       "      <th></th>\n",
       "      <th>district_name</th>\n",
       "      <th>region</th>\n",
       "      <th>total_inhabitants</th>\n",
       "      <th>num_munipalities_less_499</th>\n",
       "      <th>500_to_1999</th>\n",
       "      <th>2000_to_9999</th>\n",
       "      <th>greater_than_10000</th>\n",
       "      <th>num_cities</th>\n",
       "      <th>ratio_urban</th>\n",
       "      <th>avg_salary</th>\n",
       "      <th>unemp_rate_95</th>\n",
       "      <th>unemp_rate_96</th>\n",
       "      <th>enterpreneurs_per_1000</th>\n",
       "      <th>num_crimes95</th>\n",
       "      <th>num_crimes96</th>\n",
       "    </tr>\n",
       "    <tr>\n",
       "      <th>district_id</th>\n",
       "      <th></th>\n",
       "      <th></th>\n",
       "      <th></th>\n",
       "      <th></th>\n",
       "      <th></th>\n",
       "      <th></th>\n",
       "      <th></th>\n",
       "      <th></th>\n",
       "      <th></th>\n",
       "      <th></th>\n",
       "      <th></th>\n",
       "      <th></th>\n",
       "      <th></th>\n",
       "      <th></th>\n",
       "      <th></th>\n",
       "    </tr>\n",
       "  </thead>\n",
       "  <tbody>\n",
       "    <tr>\n",
       "      <th>1</th>\n",
       "      <td>Hl.m. Praha</td>\n",
       "      <td>Prague</td>\n",
       "      <td>1204953</td>\n",
       "      <td>0</td>\n",
       "      <td>0</td>\n",
       "      <td>0</td>\n",
       "      <td>1</td>\n",
       "      <td>1</td>\n",
       "      <td>100.0</td>\n",
       "      <td>12541</td>\n",
       "      <td>0.29</td>\n",
       "      <td>0.43</td>\n",
       "      <td>167</td>\n",
       "      <td>85677</td>\n",
       "      <td>99107</td>\n",
       "    </tr>\n",
       "    <tr>\n",
       "      <th>2</th>\n",
       "      <td>Benesov</td>\n",
       "      <td>central Bohemia</td>\n",
       "      <td>88884</td>\n",
       "      <td>80</td>\n",
       "      <td>26</td>\n",
       "      <td>6</td>\n",
       "      <td>2</td>\n",
       "      <td>5</td>\n",
       "      <td>46.7</td>\n",
       "      <td>8507</td>\n",
       "      <td>1.67</td>\n",
       "      <td>1.85</td>\n",
       "      <td>132</td>\n",
       "      <td>2159</td>\n",
       "      <td>2674</td>\n",
       "    </tr>\n",
       "    <tr>\n",
       "      <th>3</th>\n",
       "      <td>Beroun</td>\n",
       "      <td>central Bohemia</td>\n",
       "      <td>75232</td>\n",
       "      <td>55</td>\n",
       "      <td>26</td>\n",
       "      <td>4</td>\n",
       "      <td>1</td>\n",
       "      <td>5</td>\n",
       "      <td>41.7</td>\n",
       "      <td>8980</td>\n",
       "      <td>1.95</td>\n",
       "      <td>2.21</td>\n",
       "      <td>111</td>\n",
       "      <td>2824</td>\n",
       "      <td>2813</td>\n",
       "    </tr>\n",
       "    <tr>\n",
       "      <th>4</th>\n",
       "      <td>Kladno</td>\n",
       "      <td>central Bohemia</td>\n",
       "      <td>149893</td>\n",
       "      <td>63</td>\n",
       "      <td>29</td>\n",
       "      <td>6</td>\n",
       "      <td>2</td>\n",
       "      <td>6</td>\n",
       "      <td>67.4</td>\n",
       "      <td>9753</td>\n",
       "      <td>4.64</td>\n",
       "      <td>5.05</td>\n",
       "      <td>109</td>\n",
       "      <td>5244</td>\n",
       "      <td>5892</td>\n",
       "    </tr>\n",
       "    <tr>\n",
       "      <th>5</th>\n",
       "      <td>Kolin</td>\n",
       "      <td>central Bohemia</td>\n",
       "      <td>95616</td>\n",
       "      <td>65</td>\n",
       "      <td>30</td>\n",
       "      <td>4</td>\n",
       "      <td>1</td>\n",
       "      <td>6</td>\n",
       "      <td>51.4</td>\n",
       "      <td>9307</td>\n",
       "      <td>3.85</td>\n",
       "      <td>4.43</td>\n",
       "      <td>118</td>\n",
       "      <td>2616</td>\n",
       "      <td>3040</td>\n",
       "    </tr>\n",
       "  </tbody>\n",
       "</table>\n",
       "</div>"
      ],
      "text/plain": [
       "            district_name           region  total_inhabitants  \\\n",
       "district_id                                                     \n",
       "1             Hl.m. Praha           Prague            1204953   \n",
       "2                 Benesov  central Bohemia              88884   \n",
       "3                  Beroun  central Bohemia              75232   \n",
       "4                  Kladno  central Bohemia             149893   \n",
       "5                   Kolin  central Bohemia              95616   \n",
       "\n",
       "             num_munipalities_less_499  500_to_1999  2000_to_9999  \\\n",
       "district_id                                                         \n",
       "1                                    0            0             0   \n",
       "2                                   80           26             6   \n",
       "3                                   55           26             4   \n",
       "4                                   63           29             6   \n",
       "5                                   65           30             4   \n",
       "\n",
       "             greater_than_10000  num_cities  ratio_urban  avg_salary  \\\n",
       "district_id                                                            \n",
       "1                             1           1        100.0       12541   \n",
       "2                             2           5         46.7        8507   \n",
       "3                             1           5         41.7        8980   \n",
       "4                             2           6         67.4        9753   \n",
       "5                             1           6         51.4        9307   \n",
       "\n",
       "            unemp_rate_95  unemp_rate_96  enterpreneurs_per_1000 num_crimes95  \\\n",
       "district_id                                                                     \n",
       "1                    0.29           0.43                     167        85677   \n",
       "2                    1.67           1.85                     132         2159   \n",
       "3                    1.95           2.21                     111         2824   \n",
       "4                    4.64           5.05                     109         5244   \n",
       "5                    3.85           4.43                     118         2616   \n",
       "\n",
       "             num_crimes96  \n",
       "district_id                \n",
       "1                   99107  \n",
       "2                    2674  \n",
       "3                    2813  \n",
       "4                    5892  \n",
       "5                    3040  "
      ]
     },
     "execution_count": 29,
     "metadata": {},
     "output_type": "execute_result"
    }
   ],
   "source": [
    "district_data.head()"
   ]
  },
  {
   "cell_type": "code",
   "execution_count": 27,
   "metadata": {},
   "outputs": [],
   "source": [
    "district_data = district_data.set_index('district_id')"
   ]
  },
  {
   "cell_type": "code",
   "execution_count": 28,
   "metadata": {},
   "outputs": [],
   "source": [
    "district_data.to_csv('dataset/cleanData/district_data_cleaned.csv')"
   ]
  },
  {
   "cell_type": "code",
   "execution_count": 45,
   "metadata": {},
   "outputs": [],
   "source": [
    "loan_data = pd.read_csv('dataset/loan.csv')"
   ]
  },
  {
   "cell_type": "code",
   "execution_count": 47,
   "metadata": {},
   "outputs": [],
   "source": [
    "loan_data = loan_data.rename(columns={'date':'date_of_loan','payments':'monthly_payment','status':'status_code'})"
   ]
  },
  {
   "cell_type": "code",
   "execution_count": 32,
   "metadata": {},
   "outputs": [],
   "source": [
    "def parse_status(x):\n",
    "    if x == 'A':\n",
    "        return 'Contract Finished/No Problems'\n",
    "    if x == 'B':\n",
    "        return 'Contract Finished/Not Payed'\n",
    "    if x == 'C':\n",
    "        return 'Running Contract/OK'\n",
    "    if x == 'D':\n",
    "        return 'Running Contract/Debt'\n",
    "    else:\n",
    "        return 'Unknown'"
   ]
  },
  {
   "cell_type": "code",
   "execution_count": 48,
   "metadata": {},
   "outputs": [],
   "source": [
    "loan_data['status'] = loan_data['status_code'].map(parse_status)"
   ]
  },
  {
   "cell_type": "code",
   "execution_count": 51,
   "metadata": {},
   "outputs": [
    {
     "data": {
      "text/html": [
       "<div>\n",
       "<style scoped>\n",
       "    .dataframe tbody tr th:only-of-type {\n",
       "        vertical-align: middle;\n",
       "    }\n",
       "\n",
       "    .dataframe tbody tr th {\n",
       "        vertical-align: top;\n",
       "    }\n",
       "\n",
       "    .dataframe thead th {\n",
       "        text-align: right;\n",
       "    }\n",
       "</style>\n",
       "<table border=\"1\" class=\"dataframe\">\n",
       "  <thead>\n",
       "    <tr style=\"text-align: right;\">\n",
       "      <th></th>\n",
       "      <th>account_id</th>\n",
       "      <th>date_of_loan</th>\n",
       "      <th>amount</th>\n",
       "      <th>duration</th>\n",
       "      <th>monthly_payment</th>\n",
       "      <th>status_code</th>\n",
       "      <th>status</th>\n",
       "    </tr>\n",
       "    <tr>\n",
       "      <th>loan_id</th>\n",
       "      <th></th>\n",
       "      <th></th>\n",
       "      <th></th>\n",
       "      <th></th>\n",
       "      <th></th>\n",
       "      <th></th>\n",
       "      <th></th>\n",
       "    </tr>\n",
       "  </thead>\n",
       "  <tbody>\n",
       "    <tr>\n",
       "      <th>5314</th>\n",
       "      <td>1787</td>\n",
       "      <td>1993-07-05</td>\n",
       "      <td>96396</td>\n",
       "      <td>12</td>\n",
       "      <td>8033.0</td>\n",
       "      <td>B</td>\n",
       "      <td>Contract Finished/Not Payed</td>\n",
       "    </tr>\n",
       "    <tr>\n",
       "      <th>5316</th>\n",
       "      <td>1801</td>\n",
       "      <td>1993-07-11</td>\n",
       "      <td>165960</td>\n",
       "      <td>36</td>\n",
       "      <td>4610.0</td>\n",
       "      <td>A</td>\n",
       "      <td>Contract Finished/No Problems</td>\n",
       "    </tr>\n",
       "    <tr>\n",
       "      <th>6863</th>\n",
       "      <td>9188</td>\n",
       "      <td>1993-07-28</td>\n",
       "      <td>127080</td>\n",
       "      <td>60</td>\n",
       "      <td>2118.0</td>\n",
       "      <td>A</td>\n",
       "      <td>Contract Finished/No Problems</td>\n",
       "    </tr>\n",
       "    <tr>\n",
       "      <th>5325</th>\n",
       "      <td>1843</td>\n",
       "      <td>1993-08-03</td>\n",
       "      <td>105804</td>\n",
       "      <td>36</td>\n",
       "      <td>2939.0</td>\n",
       "      <td>A</td>\n",
       "      <td>Contract Finished/No Problems</td>\n",
       "    </tr>\n",
       "    <tr>\n",
       "      <th>7240</th>\n",
       "      <td>11013</td>\n",
       "      <td>1993-09-06</td>\n",
       "      <td>274740</td>\n",
       "      <td>60</td>\n",
       "      <td>4579.0</td>\n",
       "      <td>A</td>\n",
       "      <td>Contract Finished/No Problems</td>\n",
       "    </tr>\n",
       "  </tbody>\n",
       "</table>\n",
       "</div>"
      ],
      "text/plain": [
       "         account_id date_of_loan  amount  duration  monthly_payment  \\\n",
       "loan_id                                                               \n",
       "5314           1787   1993-07-05   96396        12           8033.0   \n",
       "5316           1801   1993-07-11  165960        36           4610.0   \n",
       "6863           9188   1993-07-28  127080        60           2118.0   \n",
       "5325           1843   1993-08-03  105804        36           2939.0   \n",
       "7240          11013   1993-09-06  274740        60           4579.0   \n",
       "\n",
       "        status_code                         status  \n",
       "loan_id                                             \n",
       "5314              B    Contract Finished/Not Payed  \n",
       "5316              A  Contract Finished/No Problems  \n",
       "6863              A  Contract Finished/No Problems  \n",
       "5325              A  Contract Finished/No Problems  \n",
       "7240              A  Contract Finished/No Problems  "
      ]
     },
     "execution_count": 51,
     "metadata": {},
     "output_type": "execute_result"
    }
   ],
   "source": [
    "loan_data.head()"
   ]
  },
  {
   "cell_type": "code",
   "execution_count": 50,
   "metadata": {},
   "outputs": [],
   "source": [
    "loan_data['date_of_loan'] = pd.to_datetime(loan_data['date_of_loan'],format='%y%m%d')\n",
    "loan_data= loan_data.set_index('loan_id')\n"
   ]
  },
  {
   "cell_type": "code",
   "execution_count": 52,
   "metadata": {},
   "outputs": [],
   "source": [
    "loan_data.to_csv('dataset/cleanData/loan_data_cleaned.csv')"
   ]
  },
  {
   "cell_type": "markdown",
   "metadata": {},
   "source": [
    "## cleaning Order table"
   ]
  },
  {
   "cell_type": "code",
   "execution_count": 53,
   "metadata": {},
   "outputs": [],
   "source": [
    "order_data = pd.read_csv('dataset/order.csv')"
   ]
  },
  {
   "cell_type": "code",
   "execution_count": 57,
   "metadata": {},
   "outputs": [
    {
     "data": {
      "text/html": [
       "<div>\n",
       "<style scoped>\n",
       "    .dataframe tbody tr th:only-of-type {\n",
       "        vertical-align: middle;\n",
       "    }\n",
       "\n",
       "    .dataframe tbody tr th {\n",
       "        vertical-align: top;\n",
       "    }\n",
       "\n",
       "    .dataframe thead th {\n",
       "        text-align: right;\n",
       "    }\n",
       "</style>\n",
       "<table border=\"1\" class=\"dataframe\">\n",
       "  <thead>\n",
       "    <tr style=\"text-align: right;\">\n",
       "      <th></th>\n",
       "      <th>order_id</th>\n",
       "      <th>account_id</th>\n",
       "      <th>bank_to</th>\n",
       "      <th>account_to</th>\n",
       "      <th>amount</th>\n",
       "      <th>k_symbol</th>\n",
       "    </tr>\n",
       "  </thead>\n",
       "  <tbody>\n",
       "    <tr>\n",
       "      <th>0</th>\n",
       "      <td>29401</td>\n",
       "      <td>1</td>\n",
       "      <td>YZ</td>\n",
       "      <td>87144583</td>\n",
       "      <td>2452.0</td>\n",
       "      <td>SIPO</td>\n",
       "    </tr>\n",
       "    <tr>\n",
       "      <th>1</th>\n",
       "      <td>29402</td>\n",
       "      <td>2</td>\n",
       "      <td>ST</td>\n",
       "      <td>89597016</td>\n",
       "      <td>3372.7</td>\n",
       "      <td>UVER</td>\n",
       "    </tr>\n",
       "    <tr>\n",
       "      <th>2</th>\n",
       "      <td>29403</td>\n",
       "      <td>2</td>\n",
       "      <td>QR</td>\n",
       "      <td>13943797</td>\n",
       "      <td>7266.0</td>\n",
       "      <td>SIPO</td>\n",
       "    </tr>\n",
       "    <tr>\n",
       "      <th>3</th>\n",
       "      <td>29404</td>\n",
       "      <td>3</td>\n",
       "      <td>WX</td>\n",
       "      <td>83084338</td>\n",
       "      <td>1135.0</td>\n",
       "      <td>SIPO</td>\n",
       "    </tr>\n",
       "    <tr>\n",
       "      <th>4</th>\n",
       "      <td>29405</td>\n",
       "      <td>3</td>\n",
       "      <td>CD</td>\n",
       "      <td>24485939</td>\n",
       "      <td>327.0</td>\n",
       "      <td></td>\n",
       "    </tr>\n",
       "  </tbody>\n",
       "</table>\n",
       "</div>"
      ],
      "text/plain": [
       "   order_id  account_id bank_to  account_to  amount k_symbol\n",
       "0     29401           1      YZ    87144583  2452.0     SIPO\n",
       "1     29402           2      ST    89597016  3372.7     UVER\n",
       "2     29403           2      QR    13943797  7266.0     SIPO\n",
       "3     29404           3      WX    83084338  1135.0     SIPO\n",
       "4     29405           3      CD    24485939   327.0         "
      ]
     },
     "execution_count": 57,
     "metadata": {},
     "output_type": "execute_result"
    }
   ],
   "source": [
    "order_data.head()"
   ]
  },
  {
   "cell_type": "code",
   "execution_count": 59,
   "metadata": {},
   "outputs": [],
   "source": [
    "def parse_kSymbol(x):\n",
    "    if x=='SIPO':\n",
    "        return 'Household'\n",
    "    if x=='UVER':\n",
    "        return 'Loan payment'\n",
    "    if x == 'LEASING':\n",
    "        return 'Leasing'\n",
    "    if x == 'POJISTNE':\n",
    "        return 'Insurance payment'\n",
    "    else:\n",
    "        return 'Unknown'\n"
   ]
  },
  {
   "cell_type": "code",
   "execution_count": 60,
   "metadata": {},
   "outputs": [],
   "source": [
    "order_data['k_symbol']=order_data['k_symbol'].map(parse_kSymbol)"
   ]
  },
  {
   "cell_type": "code",
   "execution_count": 61,
   "metadata": {},
   "outputs": [],
   "source": [
    "order_data = order_data.rename(columns={'bank_to': 'order_recipient_bank',\n",
    "                              'account_to':'order_recipient_account',\n",
    "                              'amount':'order_amount',\n",
    "                              'k_symbol':'order_k_symbol'})"
   ]
  },
  {
   "cell_type": "code",
   "execution_count": 62,
   "metadata": {},
   "outputs": [],
   "source": [
    "order_data = order_data.set_index('order_id')"
   ]
  },
  {
   "cell_type": "code",
   "execution_count": 63,
   "metadata": {},
   "outputs": [
    {
     "data": {
      "text/html": [
       "<div>\n",
       "<style scoped>\n",
       "    .dataframe tbody tr th:only-of-type {\n",
       "        vertical-align: middle;\n",
       "    }\n",
       "\n",
       "    .dataframe tbody tr th {\n",
       "        vertical-align: top;\n",
       "    }\n",
       "\n",
       "    .dataframe thead th {\n",
       "        text-align: right;\n",
       "    }\n",
       "</style>\n",
       "<table border=\"1\" class=\"dataframe\">\n",
       "  <thead>\n",
       "    <tr style=\"text-align: right;\">\n",
       "      <th></th>\n",
       "      <th>account_id</th>\n",
       "      <th>order_recipient_bank</th>\n",
       "      <th>order_recipient_account</th>\n",
       "      <th>order_amount</th>\n",
       "      <th>order_k_symbol</th>\n",
       "    </tr>\n",
       "    <tr>\n",
       "      <th>order_id</th>\n",
       "      <th></th>\n",
       "      <th></th>\n",
       "      <th></th>\n",
       "      <th></th>\n",
       "      <th></th>\n",
       "    </tr>\n",
       "  </thead>\n",
       "  <tbody>\n",
       "    <tr>\n",
       "      <th>29401</th>\n",
       "      <td>1</td>\n",
       "      <td>YZ</td>\n",
       "      <td>87144583</td>\n",
       "      <td>2452.0</td>\n",
       "      <td>Household</td>\n",
       "    </tr>\n",
       "    <tr>\n",
       "      <th>29402</th>\n",
       "      <td>2</td>\n",
       "      <td>ST</td>\n",
       "      <td>89597016</td>\n",
       "      <td>3372.7</td>\n",
       "      <td>Loan payment</td>\n",
       "    </tr>\n",
       "    <tr>\n",
       "      <th>29403</th>\n",
       "      <td>2</td>\n",
       "      <td>QR</td>\n",
       "      <td>13943797</td>\n",
       "      <td>7266.0</td>\n",
       "      <td>Household</td>\n",
       "    </tr>\n",
       "    <tr>\n",
       "      <th>29404</th>\n",
       "      <td>3</td>\n",
       "      <td>WX</td>\n",
       "      <td>83084338</td>\n",
       "      <td>1135.0</td>\n",
       "      <td>Household</td>\n",
       "    </tr>\n",
       "    <tr>\n",
       "      <th>29405</th>\n",
       "      <td>3</td>\n",
       "      <td>CD</td>\n",
       "      <td>24485939</td>\n",
       "      <td>327.0</td>\n",
       "      <td>Unknown</td>\n",
       "    </tr>\n",
       "  </tbody>\n",
       "</table>\n",
       "</div>"
      ],
      "text/plain": [
       "          account_id order_recipient_bank  order_recipient_account  \\\n",
       "order_id                                                             \n",
       "29401              1                   YZ                 87144583   \n",
       "29402              2                   ST                 89597016   \n",
       "29403              2                   QR                 13943797   \n",
       "29404              3                   WX                 83084338   \n",
       "29405              3                   CD                 24485939   \n",
       "\n",
       "          order_amount order_k_symbol  \n",
       "order_id                               \n",
       "29401           2452.0      Household  \n",
       "29402           3372.7   Loan payment  \n",
       "29403           7266.0      Household  \n",
       "29404           1135.0      Household  \n",
       "29405            327.0        Unknown  "
      ]
     },
     "execution_count": 63,
     "metadata": {},
     "output_type": "execute_result"
    }
   ],
   "source": [
    "order_data.head()"
   ]
  },
  {
   "cell_type": "code",
   "execution_count": 64,
   "metadata": {},
   "outputs": [],
   "source": [
    "order_data.to_csv('dataset/cleanData/order_data_cleaned.csv')"
   ]
  },
  {
   "cell_type": "markdown",
   "metadata": {},
   "source": [
    "## cleaning transf data"
   ]
  },
  {
   "cell_type": "code",
   "execution_count": 69,
   "metadata": {},
   "outputs": [],
   "source": [
    "trans_data = pd.read_csv('dataset/trans.csv',low_memory=False)"
   ]
  },
  {
   "cell_type": "code",
   "execution_count": 70,
   "metadata": {},
   "outputs": [
    {
     "data": {
      "text/html": [
       "<div>\n",
       "<style scoped>\n",
       "    .dataframe tbody tr th:only-of-type {\n",
       "        vertical-align: middle;\n",
       "    }\n",
       "\n",
       "    .dataframe tbody tr th {\n",
       "        vertical-align: top;\n",
       "    }\n",
       "\n",
       "    .dataframe thead th {\n",
       "        text-align: right;\n",
       "    }\n",
       "</style>\n",
       "<table border=\"1\" class=\"dataframe\">\n",
       "  <thead>\n",
       "    <tr style=\"text-align: right;\">\n",
       "      <th></th>\n",
       "      <th>trans_id</th>\n",
       "      <th>account_id</th>\n",
       "      <th>date</th>\n",
       "      <th>type</th>\n",
       "      <th>operation</th>\n",
       "      <th>amount</th>\n",
       "      <th>balance</th>\n",
       "      <th>k_symbol</th>\n",
       "      <th>bank</th>\n",
       "      <th>account</th>\n",
       "    </tr>\n",
       "  </thead>\n",
       "  <tbody>\n",
       "    <tr>\n",
       "      <th>0</th>\n",
       "      <td>695247</td>\n",
       "      <td>2378</td>\n",
       "      <td>930101</td>\n",
       "      <td>PRIJEM</td>\n",
       "      <td>VKLAD</td>\n",
       "      <td>700.0</td>\n",
       "      <td>700.0</td>\n",
       "      <td>NaN</td>\n",
       "      <td>NaN</td>\n",
       "      <td>NaN</td>\n",
       "    </tr>\n",
       "    <tr>\n",
       "      <th>1</th>\n",
       "      <td>171812</td>\n",
       "      <td>576</td>\n",
       "      <td>930101</td>\n",
       "      <td>PRIJEM</td>\n",
       "      <td>VKLAD</td>\n",
       "      <td>900.0</td>\n",
       "      <td>900.0</td>\n",
       "      <td>NaN</td>\n",
       "      <td>NaN</td>\n",
       "      <td>NaN</td>\n",
       "    </tr>\n",
       "    <tr>\n",
       "      <th>2</th>\n",
       "      <td>207264</td>\n",
       "      <td>704</td>\n",
       "      <td>930101</td>\n",
       "      <td>PRIJEM</td>\n",
       "      <td>VKLAD</td>\n",
       "      <td>1000.0</td>\n",
       "      <td>1000.0</td>\n",
       "      <td>NaN</td>\n",
       "      <td>NaN</td>\n",
       "      <td>NaN</td>\n",
       "    </tr>\n",
       "    <tr>\n",
       "      <th>3</th>\n",
       "      <td>1117247</td>\n",
       "      <td>3818</td>\n",
       "      <td>930101</td>\n",
       "      <td>PRIJEM</td>\n",
       "      <td>VKLAD</td>\n",
       "      <td>600.0</td>\n",
       "      <td>600.0</td>\n",
       "      <td>NaN</td>\n",
       "      <td>NaN</td>\n",
       "      <td>NaN</td>\n",
       "    </tr>\n",
       "    <tr>\n",
       "      <th>4</th>\n",
       "      <td>579373</td>\n",
       "      <td>1972</td>\n",
       "      <td>930102</td>\n",
       "      <td>PRIJEM</td>\n",
       "      <td>VKLAD</td>\n",
       "      <td>400.0</td>\n",
       "      <td>400.0</td>\n",
       "      <td>NaN</td>\n",
       "      <td>NaN</td>\n",
       "      <td>NaN</td>\n",
       "    </tr>\n",
       "  </tbody>\n",
       "</table>\n",
       "</div>"
      ],
      "text/plain": [
       "   trans_id  account_id    date    type operation  amount  balance k_symbol  \\\n",
       "0    695247        2378  930101  PRIJEM     VKLAD   700.0    700.0      NaN   \n",
       "1    171812         576  930101  PRIJEM     VKLAD   900.0    900.0      NaN   \n",
       "2    207264         704  930101  PRIJEM     VKLAD  1000.0   1000.0      NaN   \n",
       "3   1117247        3818  930101  PRIJEM     VKLAD   600.0    600.0      NaN   \n",
       "4    579373        1972  930102  PRIJEM     VKLAD   400.0    400.0      NaN   \n",
       "\n",
       "  bank  account  \n",
       "0  NaN      NaN  \n",
       "1  NaN      NaN  \n",
       "2  NaN      NaN  \n",
       "3  NaN      NaN  \n",
       "4  NaN      NaN  "
      ]
     },
     "execution_count": 70,
     "metadata": {},
     "output_type": "execute_result"
    }
   ],
   "source": [
    "trans_data.head()"
   ]
  },
  {
   "cell_type": "code",
   "execution_count": 72,
   "metadata": {},
   "outputs": [
    {
     "data": {
      "text/plain": [
       "trans_id           0\n",
       "account_id         0\n",
       "date               0\n",
       "type               0\n",
       "operation     183114\n",
       "amount             0\n",
       "balance            0\n",
       "k_symbol      481881\n",
       "bank          782812\n",
       "account       760931\n",
       "dtype: int64"
      ]
     },
     "execution_count": 72,
     "metadata": {},
     "output_type": "execute_result"
    }
   ],
   "source": [
    "trans_data.isna().sum()"
   ]
  },
  {
   "cell_type": "code",
   "execution_count": 73,
   "metadata": {},
   "outputs": [],
   "source": [
    "def type_parse(x):\n",
    "    if x == 'PRIJEM':\n",
    "        return 'Credit'\n",
    "    elif x == 'VYDAJ':\n",
    "        return 'Withdrawal'\n",
    "    else:\n",
    "        return 'Unknown'"
   ]
  },
  {
   "cell_type": "code",
   "execution_count": 74,
   "metadata": {},
   "outputs": [],
   "source": [
    "def operation_parse(x):\n",
    "    if x == 'VYBER KARTOU':\n",
    "        return 'Credit card withdrawal'\n",
    "    elif x == 'VKLAD':\n",
    "        return 'Credit in cash'\n",
    "    elif x == 'PREVOD Z UCTU':\n",
    "        return 'Collection from another bank'\n",
    "    elif x == 'VYBER':\n",
    "        return 'Withdrawal in Cash'\n",
    "    elif x == 'PREVOD NA UCET':\n",
    "        return 'Remittance to another bank'    \n",
    "    else:\n",
    "        return 'Unknown'"
   ]
  },
  {
   "cell_type": "code",
   "execution_count": 75,
   "metadata": {},
   "outputs": [],
   "source": [
    "def k_symbom_parse(x):\n",
    "    if x == 'POJISTNE':\n",
    "        return 'Insurance payment'\n",
    "    elif x == 'SLUZBY':\n",
    "        return 'Payment for statement'\n",
    "    elif x == 'UROK':\n",
    "        return 'Interest credited'\n",
    "    elif x == 'SANKC. UROK':\n",
    "        return 'Sanction interest if negative balance'\n",
    "    elif x == 'SIPO':\n",
    "        return 'Household'\n",
    "    elif x == 'DUCHOD':\n",
    "        return 'Old-age pension'  \n",
    "    elif x == 'UVER':\n",
    "        return 'Loan payment'      \n",
    "    else:\n",
    "        return 'Unknown'"
   ]
  },
  {
   "cell_type": "code",
   "execution_count": 76,
   "metadata": {},
   "outputs": [],
   "source": [
    "trans_data['trans_type'] = trans_data['type'].map(type_parse)\n",
    "trans_data['trans_operation'] = trans_data['operation'].map(operation_parse)\n",
    "trans_data['trans_k_symbol'] = trans_data['k_symbol'].map(k_symbom_parse)"
   ]
  },
  {
   "cell_type": "code",
   "execution_count": 79,
   "metadata": {},
   "outputs": [],
   "source": [
    "trans_data = trans_data.drop(['k_symbol','operation','type'],axis=1)"
   ]
  },
  {
   "cell_type": "code",
   "execution_count": 81,
   "metadata": {},
   "outputs": [],
   "source": [
    "trans_data['date'] = pd.to_datetime(trans_data['date'], format='%y%m%d')"
   ]
  },
  {
   "cell_type": "code",
   "execution_count": 83,
   "metadata": {},
   "outputs": [],
   "source": [
    "trans_data= trans_data.set_index('trans_id')"
   ]
  },
  {
   "cell_type": "code",
   "execution_count": 85,
   "metadata": {},
   "outputs": [],
   "source": [
    "trans_data = trans_data.rename(columns={'amount': 'trans_amount',\n",
    "                              'balance':'balance_after_trans',\n",
    "                              'bank':'trans_bank',\n",
    "                              'account':'trans_account'})"
   ]
  },
  {
   "cell_type": "code",
   "execution_count": 86,
   "metadata": {},
   "outputs": [
    {
     "data": {
      "text/html": [
       "<div>\n",
       "<style scoped>\n",
       "    .dataframe tbody tr th:only-of-type {\n",
       "        vertical-align: middle;\n",
       "    }\n",
       "\n",
       "    .dataframe tbody tr th {\n",
       "        vertical-align: top;\n",
       "    }\n",
       "\n",
       "    .dataframe thead th {\n",
       "        text-align: right;\n",
       "    }\n",
       "</style>\n",
       "<table border=\"1\" class=\"dataframe\">\n",
       "  <thead>\n",
       "    <tr style=\"text-align: right;\">\n",
       "      <th></th>\n",
       "      <th>account_id</th>\n",
       "      <th>date</th>\n",
       "      <th>trans_amount</th>\n",
       "      <th>balance_after_trans</th>\n",
       "      <th>trans_bank</th>\n",
       "      <th>trans_account</th>\n",
       "      <th>trans_type</th>\n",
       "      <th>trans_operation</th>\n",
       "      <th>trans_k_symbol</th>\n",
       "    </tr>\n",
       "    <tr>\n",
       "      <th>trans_id</th>\n",
       "      <th></th>\n",
       "      <th></th>\n",
       "      <th></th>\n",
       "      <th></th>\n",
       "      <th></th>\n",
       "      <th></th>\n",
       "      <th></th>\n",
       "      <th></th>\n",
       "      <th></th>\n",
       "    </tr>\n",
       "  </thead>\n",
       "  <tbody>\n",
       "    <tr>\n",
       "      <th>695247</th>\n",
       "      <td>2378</td>\n",
       "      <td>1993-01-01</td>\n",
       "      <td>700.0</td>\n",
       "      <td>700.0</td>\n",
       "      <td>NaN</td>\n",
       "      <td>NaN</td>\n",
       "      <td>Credit</td>\n",
       "      <td>Credit in cash</td>\n",
       "      <td>Unknown</td>\n",
       "    </tr>\n",
       "    <tr>\n",
       "      <th>171812</th>\n",
       "      <td>576</td>\n",
       "      <td>1993-01-01</td>\n",
       "      <td>900.0</td>\n",
       "      <td>900.0</td>\n",
       "      <td>NaN</td>\n",
       "      <td>NaN</td>\n",
       "      <td>Credit</td>\n",
       "      <td>Credit in cash</td>\n",
       "      <td>Unknown</td>\n",
       "    </tr>\n",
       "    <tr>\n",
       "      <th>207264</th>\n",
       "      <td>704</td>\n",
       "      <td>1993-01-01</td>\n",
       "      <td>1000.0</td>\n",
       "      <td>1000.0</td>\n",
       "      <td>NaN</td>\n",
       "      <td>NaN</td>\n",
       "      <td>Credit</td>\n",
       "      <td>Credit in cash</td>\n",
       "      <td>Unknown</td>\n",
       "    </tr>\n",
       "    <tr>\n",
       "      <th>1117247</th>\n",
       "      <td>3818</td>\n",
       "      <td>1993-01-01</td>\n",
       "      <td>600.0</td>\n",
       "      <td>600.0</td>\n",
       "      <td>NaN</td>\n",
       "      <td>NaN</td>\n",
       "      <td>Credit</td>\n",
       "      <td>Credit in cash</td>\n",
       "      <td>Unknown</td>\n",
       "    </tr>\n",
       "    <tr>\n",
       "      <th>579373</th>\n",
       "      <td>1972</td>\n",
       "      <td>1993-01-02</td>\n",
       "      <td>400.0</td>\n",
       "      <td>400.0</td>\n",
       "      <td>NaN</td>\n",
       "      <td>NaN</td>\n",
       "      <td>Credit</td>\n",
       "      <td>Credit in cash</td>\n",
       "      <td>Unknown</td>\n",
       "    </tr>\n",
       "  </tbody>\n",
       "</table>\n",
       "</div>"
      ],
      "text/plain": [
       "          account_id       date  trans_amount  balance_after_trans trans_bank  \\\n",
       "trans_id                                                                        \n",
       "695247          2378 1993-01-01         700.0                700.0        NaN   \n",
       "171812           576 1993-01-01         900.0                900.0        NaN   \n",
       "207264           704 1993-01-01        1000.0               1000.0        NaN   \n",
       "1117247         3818 1993-01-01         600.0                600.0        NaN   \n",
       "579373          1972 1993-01-02         400.0                400.0        NaN   \n",
       "\n",
       "          trans_account trans_type trans_operation trans_k_symbol  \n",
       "trans_id                                                           \n",
       "695247              NaN     Credit  Credit in cash        Unknown  \n",
       "171812              NaN     Credit  Credit in cash        Unknown  \n",
       "207264              NaN     Credit  Credit in cash        Unknown  \n",
       "1117247             NaN     Credit  Credit in cash        Unknown  \n",
       "579373              NaN     Credit  Credit in cash        Unknown  "
      ]
     },
     "execution_count": 86,
     "metadata": {},
     "output_type": "execute_result"
    }
   ],
   "source": [
    "trans_data.head()"
   ]
  },
  {
   "cell_type": "code",
   "execution_count": 87,
   "metadata": {},
   "outputs": [],
   "source": [
    "trans_data.to_csv('dataset/cleanData/trans_data_cleaned.csv')"
   ]
  }
 ],
 "metadata": {
  "interpreter": {
   "hash": "31f2aee4e71d21fbe5cf8b01ff0e069b9275f58929596ceb00d14d90e3e16cd6"
  },
  "kernelspec": {
   "display_name": "Python 3.8.10 64-bit",
   "language": "python",
   "name": "python3"
  },
  "language_info": {
   "codemirror_mode": {
    "name": "ipython",
    "version": 3
   },
   "file_extension": ".py",
   "mimetype": "text/x-python",
   "name": "python",
   "nbconvert_exporter": "python",
   "pygments_lexer": "ipython3",
   "version": "3.8.10"
  },
  "orig_nbformat": 4
 },
 "nbformat": 4,
 "nbformat_minor": 2
}
